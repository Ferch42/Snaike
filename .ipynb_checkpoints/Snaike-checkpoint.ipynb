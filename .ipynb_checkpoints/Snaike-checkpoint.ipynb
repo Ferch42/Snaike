{
 "cells": [
  {
   "cell_type": "markdown",
   "metadata": {},
   "source": [
    "# Snaike game with neural nets"
   ]
  },
  {
   "cell_type": "markdown",
   "metadata": {},
   "source": [
    "## Importing modules"
   ]
  },
  {
   "cell_type": "code",
   "execution_count": 1,
   "metadata": {},
   "outputs": [
    {
     "name": "stdout",
     "output_type": "stream",
     "text": [
      "curses is not supported on this machine (please install/reinstall curses for an optimal experience)\n"
     ]
    }
   ],
   "source": [
    "from Snake import Snake\n",
    "from body import body\n",
    "from head import head\n",
    "from food import food\n",
    "from SnakeTools import *\n",
    "from SnakeRender import *\n",
    "import pygame,sys\n",
    "from pygame.locals import *\n",
    "from random import randint\n",
    "import math\n",
    "import numpy as np\n",
    "import pickle\n",
    "from sklearn.preprocessing import StandardScaler\n",
    "from sklearn.neural_network import MLPClassifier\n",
    "from sklearn.model_selection import train_test_split\n",
    "from sklearn.metrics import classification_report\n",
    "from sklearn import linear_model\n",
    "from sklearn.neighbors import KNeighborsClassifier\n",
    "from sklearn.naive_bayes import MultinomialNB\n",
    "import tflearn\n",
    "import tensorflow as tf\n",
    "from imblearn.over_sampling import SMOTE\n",
    "import time\n",
    "import matplotlib.pyplot as plt"
   ]
  },
  {
   "cell_type": "code",
   "execution_count": 2,
   "metadata": {
    "collapsed": true
   },
   "outputs": [],
   "source": [
    "#colors\n",
    "WHITE = (255, 255, 255)\n",
    "BLACK=(0,0,0)"
   ]
  },
  {
   "cell_type": "code",
   "execution_count": 10,
   "metadata": {},
   "outputs": [
    {
     "data": {
      "text/plain": [
       "'\\n#reset files\\n\\npickle.dump( [], open( \"features.fer\", \"wb\" ) )    \\npickle.dump( [], open( \"tags.fer\", \"wb\" ) )\\n'"
      ]
     },
     "execution_count": 10,
     "metadata": {},
     "output_type": "execute_result"
    }
   ],
   "source": [
    "'''\n",
    "#reset files\n",
    "\n",
    "pickle.dump( [], open( \"features.fer\", \"wb\" ) )    \n",
    "pickle.dump( [], open( \"tags.fer\", \"wb\" ) )\n",
    "'''"
   ]
  },
  {
   "cell_type": "code",
   "execution_count": 12,
   "metadata": {
    "collapsed": true
   },
   "outputs": [],
   "source": [
    "def Create_Classifier(name):\n",
    "\tif(name=='LogReg'):\n",
    "\t\treturn linear_model.LogisticRegression(n_jobs=1, C=1e5)\n",
    "\telif(name=='KNN'):\n",
    "\t\treturn KNeighborsClassifier(n_neighbors=3, n_jobs=1, algorithm='brute', metric='cosine')\n",
    "\telif(name=='NB'):\n",
    "\t\treturn MultinomialNB(alpha=0.01)\n",
    "\telif(name=='MLPerceptron'):\n",
    "\t\treturn MLPClassifier()\n",
    "\telse:\n",
    "\t\traise NameError('Classifier Unavailable')"
   ]
  },
  {
   "cell_type": "code",
   "execution_count": 13,
   "metadata": {
    "collapsed": true
   },
   "outputs": [],
   "source": [
    "#Tensor Flow \n",
    "\n",
    "def fully_connected_layer(input, n_inp, n_out, relu=True):\n",
    "    \n",
    "    w=tf.Variable(tf.truncated_normal([n_inp,n_out], stddev=0.05))\n",
    "    b=tf.Variable(tf.constant(0.05,shape=[n_out]))\n",
    "    \n",
    "    layer=tf.matmul(input,w)+b\n",
    "    \n",
    "    if(relu):\n",
    "        layer=tf.nn.relu(layer)\n",
    "    return layer"
   ]
  },
  {
   "cell_type": "code",
   "execution_count": 14,
   "metadata": {
    "collapsed": true
   },
   "outputs": [],
   "source": [
    "class SampleGenerator:\n",
    "    \n",
    "    def __init__(self,features,tags):\n",
    "        \n",
    "        self.ex_indices=[]\n",
    "        self.feat=features\n",
    "        self.tags=tags\n",
    "    \n",
    "    def getBatch(self,batch_size):\n",
    "        \n",
    "        count=0\n",
    "        f=[]\n",
    "        t=[]\n",
    "        while(count<batch_size):\n",
    "            \n",
    "            if(len(self.ex_indices)==len(self.tags)):\n",
    "                self.ex_indices=[]\n",
    "            \n",
    "            i=randint(0,len(self.tags)-1)\n",
    "            if(i not in self.ex_indices):\n",
    "                self.ex_indices.append(i)\n",
    "                f.append(self.feat[i])\n",
    "                t.append(self.tags[i])\n",
    "                count+=1\n",
    "        \n",
    "        t=np.array(t)\n",
    "        zer= np.zeros((batch_size,3))\n",
    "        \n",
    "        for i in range(len(t)):\n",
    "            aux=t[i]\n",
    "            zer[i][aux]=1\n",
    "            \n",
    "        f=np.array(f)\n",
    "        return f, zer"
   ]
  },
  {
   "cell_type": "code",
   "execution_count": 15,
   "metadata": {},
   "outputs": [
    {
     "name": "stdout",
     "output_type": "stream",
     "text": [
      "Initializing game\n"
     ]
    }
   ],
   "source": [
    "#init\n",
    "print(\"Initializing game\")\n",
    "pygame.init()\n",
    "dim=300\n",
    "displaysurf=pygame.display.set_mode((dim,dim))\n",
    "pygame.display.set_caption('Snaike')\n",
    "fpsClock = pygame.time.Clock()\n",
    "FPS = 60\n",
    "framecount=0\n",
    "\n",
    "\n",
    "#emilia variables\n",
    "emiliaImg = pygame.image.load('blue.png')\n",
    "emiliaSnake = Snake(int(dim/2)+100,int(dim/2)+100,emiliaImg,ori='u')\n",
    "emiliaSnake.createWalls(dim)\n",
    "\n",
    "#subaro\n",
    "subaroImg=pygame.image.load('blue.png')\n",
    "emiliaSnake.bodyImg=subaroImg\n",
    "\n",
    "#game over\n",
    "gameoverImg=pygame.image.load('gameover.jpg')\n",
    "\n",
    "#food\n",
    "foodImg=pygame.image.load('hamb.png')\n",
    "foood=newFood(foodImg,dim)\n",
    "\n",
    "#orientation\n",
    "lastorientation=emiliaSnake.orientation\n",
    "orientation=emiliaSnake.orientation\n",
    "gameOverFlag=False\n",
    "\n"
   ]
  },
  {
   "cell_type": "code",
   "execution_count": 16,
   "metadata": {},
   "outputs": [
    {
     "name": "stdout",
     "output_type": "stream",
     "text": [
      "Opening config files\n",
      "Features:  4109\n"
     ]
    },
    {
     "ename": "IndexError",
     "evalue": "list index out of range",
     "output_type": "error",
     "traceback": [
      "\u001b[1;31m---------------------------------------------------------------------------\u001b[0m",
      "\u001b[1;31mIndexError\u001b[0m                                Traceback (most recent call last)",
      "\u001b[1;32m<ipython-input-16-5057a022bd65>\u001b[0m in \u001b[0;36m<module>\u001b[1;34m()\u001b[0m\n\u001b[0;32m      6\u001b[0m \u001b[0mprint\u001b[0m\u001b[1;33m(\u001b[0m\u001b[1;34m\"Features: \"\u001b[0m\u001b[1;33m,\u001b[0m \u001b[0mlen\u001b[0m\u001b[1;33m(\u001b[0m\u001b[0mfeatures\u001b[0m\u001b[1;33m)\u001b[0m\u001b[1;33m)\u001b[0m\u001b[1;33m\u001b[0m\u001b[0m\n\u001b[0;32m      7\u001b[0m \u001b[1;33m\u001b[0m\u001b[0m\n\u001b[1;32m----> 8\u001b[1;33m \u001b[0mfeatures\u001b[0m\u001b[1;33m=\u001b[0m\u001b[0memiliaSnake\u001b[0m\u001b[1;33m.\u001b[0m\u001b[0mnormalizeData\u001b[0m\u001b[1;33m(\u001b[0m\u001b[0mfeatures\u001b[0m\u001b[1;33m)\u001b[0m\u001b[1;33m\u001b[0m\u001b[0m\n\u001b[0m\u001b[0;32m      9\u001b[0m \u001b[0mfeatures\u001b[0m\u001b[1;33m=\u001b[0m\u001b[1;33m[\u001b[0m\u001b[1;33m[\u001b[0m\u001b[0mx\u001b[0m\u001b[1;33m[\u001b[0m\u001b[1;36m0\u001b[0m\u001b[1;33m]\u001b[0m\u001b[1;33m,\u001b[0m\u001b[0mx\u001b[0m\u001b[1;33m[\u001b[0m\u001b[1;36m1\u001b[0m\u001b[1;33m]\u001b[0m\u001b[1;33m,\u001b[0m\u001b[0mx\u001b[0m\u001b[1;33m[\u001b[0m\u001b[1;36m2\u001b[0m\u001b[1;33m]\u001b[0m\u001b[1;33m,\u001b[0m\u001b[0mx\u001b[0m\u001b[1;33m[\u001b[0m\u001b[1;36m3\u001b[0m\u001b[1;33m]\u001b[0m\u001b[1;33m]\u001b[0m \u001b[1;32mfor\u001b[0m \u001b[0mx\u001b[0m \u001b[1;32min\u001b[0m \u001b[0mfeatures\u001b[0m\u001b[1;33m]\u001b[0m\u001b[1;33m\u001b[0m\u001b[0m\n\u001b[0;32m     10\u001b[0m \u001b[0mtags\u001b[0m\u001b[1;33m=\u001b[0m\u001b[1;33m[\u001b[0m\u001b[0mx\u001b[0m\u001b[1;33m+\u001b[0m\u001b[1;36m1\u001b[0m \u001b[1;32mfor\u001b[0m \u001b[0mx\u001b[0m \u001b[1;32min\u001b[0m \u001b[0mtags\u001b[0m\u001b[1;33m]\u001b[0m\u001b[1;33m\u001b[0m\u001b[0m\n",
      "\u001b[1;32m~\\Desktop\\ferias\\Snaike\\Snake.py\u001b[0m in \u001b[0;36mnormalizeData\u001b[1;34m(self, features)\u001b[0m\n\u001b[0;32m    146\u001b[0m         \u001b[1;32mfor\u001b[0m \u001b[0mfi\u001b[0m \u001b[1;32min\u001b[0m \u001b[0mfeatures\u001b[0m\u001b[1;33m:\u001b[0m\u001b[1;33m\u001b[0m\u001b[0m\n\u001b[0;32m    147\u001b[0m             f.append([int(fi[0]/self.head.image.get_width()),int(fi[1]/self.head.image.get_width()),\n\u001b[1;32m--> 148\u001b[1;33m                      int(fi[2]/self.head.image.get_width()), int(fi[3]),int(fi[4]),fi[5]])\n\u001b[0m\u001b[0;32m    149\u001b[0m         \u001b[1;32mreturn\u001b[0m \u001b[0mf\u001b[0m\u001b[1;33m\u001b[0m\u001b[0m\n",
      "\u001b[1;31mIndexError\u001b[0m: list index out of range"
     ]
    }
   ],
   "source": [
    "#Neural net\n",
    "print(\"Opening config files\")\n",
    "#training features and tags\n",
    "features=pickle.load( open( \"features.fer\", \"rb\" ) )\n",
    "tags=pickle.load( open(\"tags.fer\",\"rb\"))\n",
    "print(\"Features: \", len(features))\n",
    "\n",
    "features=emiliaSnake.normalizeData(features)\n",
    "features=[[x[0],x[1],x[2],x[3]] for x in features]\n",
    "tags=[x+1 for x in tags]\n",
    "print(\"Test-split\")\n",
    "#Training and test features\n",
    "X_train, X_test, y_train, y_test = train_test_split( features, tags, test_size=0.10, random_state=42)\n",
    "diist=[x[3] for x in features]\n",
    "#plt.plot(features, tags,'ro')\n",
    "#plt.show()\n",
    "\n",
    "print(\"Smoting\")\n",
    "#Smote\n",
    "sm = SMOTE(random_state=42)\n",
    "X_train,y_train=sm.fit_sample(X_train,y_train)\n",
    "print(\"Features: \", len(X_train))\n",
    "'''\n",
    "print(\"Training model ...\")\n",
    "featz=len(features[0])\n",
    "outz=3\n",
    "l1_neurons=30\n",
    "\n",
    "#Neural net config\n",
    "x=tf.placeholder(tf.float32,shape=[None,featz], name='x')\n",
    "l1=fully_connected_layer(x,featz,l1_neurons)\n",
    "l2=fully_connected_layer(l1,l1_neurons,outz,relu=False)\n",
    "softmax=tf.nn.softmax(l2)\n",
    "y_pred_cls=tf.argmax(softmax,axis=1)\n",
    "y_true = tf.placeholder(tf.float32, shape=[None, 3], name='y_true')\n",
    "cross_entropy = tf.nn.softmax_cross_entropy_with_logits(logits=l2,labels=y_true)\n",
    "cost = tf.reduce_mean(cross_entropy)\n",
    "optimizer = tf.train.AdamOptimizer(learning_rate=1e-4).minimize(cost)\n",
    "\n",
    "#Accuracy measures\n",
    "y_true_cls = tf.argmax(y_true, axis=1)\n",
    "correct_prediction = tf.equal(y_pred_cls, y_true_cls)\n",
    "accuracy = tf.reduce_mean(tf.cast(correct_prediction, tf.float32))\n",
    "'''"
   ]
  },
  {
   "cell_type": "code",
   "execution_count": null,
   "metadata": {
    "collapsed": true
   },
   "outputs": [],
   "source": [
    "#Session\n",
    "session = tf.Session()\n",
    "session.run(tf.global_variables_initializer())"
   ]
  },
  {
   "cell_type": "code",
   "execution_count": null,
   "metadata": {
    "collapsed": true
   },
   "outputs": [],
   "source": [
    "'''\n",
    "#Optimization function\n",
    "sampleGenerator=SampleGenerator(X_train,y_train)\n",
    "batch_size=64\n",
    "\n",
    "def optimize(num_iterations):\n",
    "    \n",
    "    for i in range(num_iterations):\n",
    "        \n",
    "        f,t=sampleGenerator.getBatch(batch_size)\n",
    "        feed_dict_train={ x:f, y_true:t}\n",
    "        session.run(optimizer, feed_dict=feed_dict_train)\n",
    "        \n",
    "        if i % 100 == 0:\n",
    "            # Calculate the accuracy on the training-set.\n",
    "            acc = session.run(accuracy, feed_dict=feed_dict_train)\n",
    "\n",
    "            # Message for printing.\n",
    "            msg = \"Optimization Iteration: {0:>6}, Training Accuracy: {1:>6.1%}\"\n",
    "\n",
    "            # Print it.\n",
    "            print(msg.format(i + 1, acc))\n",
    "            if(acc>=0.80):\n",
    "                break\n",
    "'''"
   ]
  },
  {
   "cell_type": "code",
   "execution_count": null,
   "metadata": {
    "collapsed": true
   },
   "outputs": [],
   "source": [
    "'''\n",
    "#Running the graph\n",
    "optimize(7500)\n",
    "'''"
   ]
  },
  {
   "cell_type": "code",
   "execution_count": null,
   "metadata": {
    "collapsed": true
   },
   "outputs": [],
   "source": [
    "'''\n",
    "pred_dict={x:X_test}\n",
    "predictions=session.run(y_pred_cls,feed_dict=pred_dict)\n",
    "\n",
    "print(classification_report(y_test,predictions))\n",
    "'''"
   ]
  },
  {
   "cell_type": "code",
   "execution_count": null,
   "metadata": {
    "collapsed": true
   },
   "outputs": [],
   "source": [
    "#AI move\n",
    "def aiMove(emiliaSnake,foood,orientation,framecount):\n",
    "        \n",
    "    if(framecount==0):\n",
    "        atr1,atr2,atr3=emiliaSnake.getAtr()\n",
    "        ang,hip= foodPos(emiliaSnake,foood)\n",
    "            \n",
    "        run_dict={x:[[atr1,atr2,atr3,ang]]}\n",
    "        mv=session.run(y_pred_cls,feed_dict=run_dict)-1\n",
    "        print(mv)\n",
    "        if(orientation=='u' and mv==1):\n",
    "            orientation='r'\n",
    "        elif(orientation=='r' and mv==-1):\n",
    "            orientation='u'\n",
    "        else:\n",
    "            orientation=numbOri(mv+oriNumb(orientation))\n",
    "        print(orientation)\n",
    "    \n",
    "    return orientation"
   ]
  },
  {
   "cell_type": "code",
   "execution_count": 17,
   "metadata": {
    "scrolled": false
   },
   "outputs": [
    {
     "name": "stdout",
     "output_type": "stream",
     "text": [
      "game starts\n"
     ]
    },
    {
     "ename": "SystemExit",
     "evalue": "",
     "output_type": "error",
     "traceback": [
      "An exception has occurred, use %tb to see the full traceback.\n",
      "\u001b[1;31mSystemExit\u001b[0m\n"
     ]
    },
    {
     "name": "stderr",
     "output_type": "stream",
     "text": [
      "C:\\Users\\Fernando\\Anaconda3\\lib\\site-packages\\IPython\\core\\interactiveshell.py:2870: UserWarning: To exit: use 'exit', 'quit', or Ctrl-D.\n",
      "  warn(\"To exit: use 'exit', 'quit', or Ctrl-D.\", stacklevel=1)\n"
     ]
    }
   ],
   "source": [
    "#game loop\n",
    "print(\"game starts\")\n",
    "while True:   \n",
    "    displaysurf.fill(WHITE)\n",
    "    \n",
    "    for event in pygame.event.get():\n",
    "        if event.type== QUIT:\n",
    "            pickle.dump( features, open( \"features.fer\", \"wb\" ) )    \n",
    "            pickle.dump( tags, open( \"tags.fer\", \"wb\" ) )\n",
    "            pygame.quit()\n",
    "            sys.exit()\n",
    "        elif event.type==KEYDOWN:\n",
    "            if event.key==K_UP and orientation!='d':\n",
    "                orientation='u'\n",
    "            elif event.key==K_DOWN and orientation!='u':\n",
    "                orientation='d'\n",
    "            elif event.key==K_RIGHT and orientation!='l':\n",
    "                orientation='r'\n",
    "            elif event.key==K_LEFT and orientation!='r':\n",
    "                orientation='l'\n",
    "            elif event.key==K_f:\n",
    "                emiliaSnake = Snake(int(dim/2),int(dim/2),emiliaImg)\n",
    "                emiliaSnake.createWalls(dim)\n",
    "                emiliaSnake.bodyImg=subaroImg\n",
    "                gameOverFlag=False\n",
    "            elif event.key==K_n:\n",
    "                pickle.dump( features, open( \"features.fer\", \"wb\" ) )\n",
    "                pickle.dump( tags, open( \"tags.fer\", \"wb\" ) )\n",
    "                pygame.quit()\n",
    "                sys.exit()\n",
    "    \n",
    "    framecount=(framecount+1)%30\n",
    "    \n",
    "    atr1,atr2,atr3,ang,hip=0,0,0,0,0\n",
    "    #emilia motion\n",
    "    if(emiliaSnake.isAlive()):\n",
    "        \n",
    "        '''\n",
    "        #AI move\n",
    "        if(True):\n",
    "            atr1,atr2,atr3=emiliaSnake.getAtr()\n",
    "            ang,hip= foodPos(emiliaSnake,foood)\n",
    "            run_feat=[[int(atr1/emiliaSnake.head.image.get_width()),int(atr2/emiliaSnake.head.image.get_width()),int(atr3/emiliaSnake.head.image.get_width()),int(ang)]]\n",
    "            run_dict={x:run_feat}\n",
    "            mv=session.run(y_pred_cls,feed_dict=run_dict)-1\n",
    "            if(orientation=='u' and mv==1):\n",
    "                orientation='r'\n",
    "            elif(orientation=='r' and mv==-1):\n",
    "                orientation='u'\n",
    "            else:\n",
    "                orientation=numbOri(mv+oriNumb(orientation))\n",
    "        '''\n",
    "        emiliaSnake.move(orientation)\n",
    "    \n",
    "    if(not emiliaSnake.isAlive()):\n",
    "        gameOverFlag=True\n",
    "        \n",
    "        displaysurf.blit(gameoverImg, (int((dim-gameoverImg.get_width())/2),(int((dim-gameoverImg.get_height())/2)-50)))\n",
    "        pygame.display.update()\n",
    "\n",
    "    if(emiliaSnake.eaten(foood)):\n",
    "        \n",
    "        foood=newFood(foodImg,dim)\n",
    "        emiliaSnake.addBlock()\n",
    "    \n",
    "    if(not gameOverFlag):\n",
    "        \n",
    "        if(framecount==0 or lastorientation!=orientation):\n",
    "            \n",
    "            atr1,atr2,atr3=emiliaSnake.getAtr()\n",
    "            ang,hip= foodPos(emiliaSnake,foood)\n",
    "            \n",
    "            features.append([atr1,atr2,atr3,ang,hip,oriNumb(orientation)])\n",
    "            rio=calcTag(lastorientation,orientation)\n",
    "            tags.append(rio)\n",
    "            lastorientation=orientation\n",
    "        \n",
    "        renderSnake(displaysurf,emiliaSnake)\n",
    "        renderFood(displaysurf,foood)\n",
    "        pygame.display.update()\n",
    "        \n",
    "    fpsClock.tick(FPS)\n",
    "    \n",
    "\n",
    "            "
   ]
  },
  {
   "cell_type": "code",
   "execution_count": null,
   "metadata": {
    "collapsed": true
   },
   "outputs": [],
   "source": [
    "from mpl_toolkits.mplot3d import Axes3D\n",
    "\n",
    "fig = plt.figure()\n",
    "ax = fig.add_subplot(111, projection='3d')\n",
    "xp=[int(x[1])for x in X_train]\n",
    "yp=[int(y[0])for y in X_train]\n",
    "\n",
    "ax.scatter(xp, yp, y_train, c='b', marker='o')\n",
    "plt.show()"
   ]
  },
  {
   "cell_type": "code",
   "execution_count": null,
   "metadata": {
    "collapsed": true,
    "scrolled": true
   },
   "outputs": [],
   "source": [
    "from sklearn.manifold import TSNE\n",
    "from mpl_toolkits.mplot3d import Axes3D\n",
    "features=np.array(features)\n",
    "nf=[]\n",
    "nt=[]\n",
    "print('before')\n",
    "print(len(features))\n",
    "for i in range(len(features)):\n",
    "    ff=features[i]\n",
    "    if(len(ff)==4):\n",
    "        nf.append(ff)\n",
    "        nt.append(tags[i])\n",
    "print('after')\n",
    "print(len(nf))\n",
    "ff = TSNE(n_components=2).fit_transform(nf)\n",
    "fig = plt.figure()\n",
    "ax = fig.add_subplot(111, projection='3d')\n",
    "x=[j[0] for j in ff]\n",
    "y=[j[1] for j in ff]\n",
    "print(len(nt), len(nf))\n",
    "ax.scatter(x, y, nt, c='b', marker='o')\n",
    "plt.show()"
   ]
  }
 ],
 "metadata": {
  "kernelspec": {
   "display_name": "Python 3",
   "language": "python",
   "name": "python3"
  },
  "language_info": {
   "codemirror_mode": {
    "name": "ipython",
    "version": 3
   },
   "file_extension": ".py",
   "mimetype": "text/x-python",
   "name": "python",
   "nbconvert_exporter": "python",
   "pygments_lexer": "ipython3",
   "version": "3.6.0"
  }
 },
 "nbformat": 4,
 "nbformat_minor": 2
}
