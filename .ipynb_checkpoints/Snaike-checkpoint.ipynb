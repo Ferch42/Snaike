{
 "cells": [
  {
   "cell_type": "code",
   "execution_count": 55,
   "metadata": {
    "collapsed": true
   },
   "outputs": [],
   "source": [
    "import pygame,sys\n",
    "from pygame.locals import *"
   ]
  },
  {
   "cell_type": "code",
   "execution_count": 56,
   "metadata": {
    "collapsed": true
   },
   "outputs": [],
   "source": [
    "#colors\n",
    "WHITE = (255, 255, 255)\n",
    "BLACK=(0,0,0)"
   ]
  },
  {
   "cell_type": "code",
   "execution_count": 57,
   "metadata": {
    "collapsed": true
   },
   "outputs": [],
   "source": [
    "def desloc(x,y,ori):\n",
    "    des=1\n",
    "    if(ori=='r'):\n",
    "        return (x+des,y)\n",
    "    elif(ori=='l'):\n",
    "        return (x-des,y)\n",
    "    elif(ori=='u'):\n",
    "        return (x,y-des)\n",
    "    elif (ori=='d'):\n",
    "        return (x,y+des)"
   ]
  },
  {
   "cell_type": "code",
   "execution_count": 58,
   "metadata": {
    "collapsed": true
   },
   "outputs": [],
   "source": [
    "#head\n",
    "class head(pygame.sprite.Sprite):\n",
    "    \n",
    "    def __init__(self,x,y,img):\n",
    "        \n",
    "        pygame.sprite.Sprite.__init__(self)\n",
    "        self.image=img\n",
    "        self.rect=pygame.rect.Rect(x,y,int(img.get_width()*0.5),int(img.get_height()*0.5))\n",
    "        self.orientation=''\n",
    "    \n",
    "    def get_render_rect(self):\n",
    "        \n",
    "        return ((self.rect.x-int(self.image.get_width()*0.25)),(self.rect.y-int(self.image.get_height()*0.25)))"
   ]
  },
  {
   "cell_type": "code",
   "execution_count": 59,
   "metadata": {
    "collapsed": true
   },
   "outputs": [],
   "source": [
    "#body\n",
    "class body(pygame.sprite.Sprite):\n",
    "    def __init__(self,x,y,ori,img):\n",
    "        \n",
    "        pygame.sprite.Sprite.__init__(self)\n",
    "        self.image=img\n",
    "        self.rect=pygame.rect.Rect(x,y,int(img.get_width()*0.5),int(img.get_height()*0.5))\n",
    "        self.orientation=ori\n",
    "        self.turns=[]\n",
    "    \n",
    "    def move(self):\n",
    "        \n",
    "        if(len(self.turns)==0):\n",
    "            self.rect.x,self.rect.y=desloc(self.rect.x,self.rect.y,self.orientation)\n",
    "            \n",
    "        else:\n",
    "            turnx,turny,turno= self.turns[0]\n",
    "            virtualx,virtualy=desloc(self.rect.x,self.rect.y,self.orientation)\n",
    "            \n",
    "            if(((self.orientation=='r' and virtualx>turnx) or (self.orientation=='l' and virtualx<turnx) \n",
    "               or (self.orientation=='u' and virtualy<turny) or (self.orientation=='d' and virtualy>turny))\n",
    "              and self.orientation!=turno):\n",
    "                \n",
    "                self.rect.x,self.rect.y=desloc(self.rect.x,self.rect.y,turno)\n",
    "                self.orientation=turno\n",
    "                self.turns.pop(0)\n",
    "                \n",
    "            else:\n",
    "                self.rect.x,self.rect.y=desloc(self.rect.x,self.rect.y,self.orientation)\n",
    "\n",
    "    def get_render_rect(self):\n",
    "        \n",
    "        return ((self.rect.x-int(self.image.get_width()*0.25)),(self.rect.y-int(self.image.get_height()*0.25)))\n",
    "                "
   ]
  },
  {
   "cell_type": "code",
   "execution_count": 60,
   "metadata": {
    "collapsed": true
   },
   "outputs": [],
   "source": [
    "#Snake\n",
    "class Snake:\n",
    "    \n",
    "    def __init__(self,x,y,headIm,ori='r'):\n",
    "        \n",
    "        self.head=head(x,y,headIm)\n",
    "        self.head.orientation=ori\n",
    "        self.blocks=[]\n",
    "        self.orientation=ori   \n",
    "        self.headImg=headIm\n",
    "        self.bodyImg=pygame.Surface((0,0))\n",
    "        \n",
    "    def move(self,ori):\n",
    "        \n",
    "        if(ori!=self.orientation):\n",
    "            #turn happened\n",
    "            turn=(self.head.rect.x,self.head.rect.y,ori)\n",
    "            for block in self.blocks:\n",
    "                block.turns.append(turn)\n",
    "            self.orientation=ori\n",
    "   \n",
    "        self.head.rect.x,self.head.rect.y=desloc(self.head.rect.x,self.head.rect.y,ori)\n",
    "        \n",
    "        for b in self.blocks:\n",
    "            b.move()\n",
    "\n",
    "    def isAlive(self):\n",
    "        \n",
    "        head_rect=self.head.rect\n",
    "        \n",
    "        for bloc in self.blocks:\n",
    "            if(head_rect.colliderect(bloc.rect)):\n",
    "                return False\n",
    "        return True\n",
    "    \n",
    "    def calcBodyPosition(self,bloc):\n",
    "        \n",
    "        ori=bloc.orientation\n",
    "        \n",
    "        #values\n",
    "        spacing=int(0.70*bloc.image.get_width())\n",
    "        dist=spacing+bloc.image.get_width()\n",
    "        \n",
    "        #virtual values\n",
    "        virtualx,virtualy=0,0\n",
    "        \n",
    "        if(ori=='r'):\n",
    "            virtualx,virtualy=(bloc.rect.x-dist),(bloc.rect.y)\n",
    "\n",
    "        elif(ori=='l'):\n",
    "            virtualx,virtualy=(bloc.rect.x+dist),(bloc.rect.y)\n",
    "\n",
    "        elif(ori=='u'):\n",
    "            virtualx,virtualy=(bloc.rect.x),(bloc.rect.y+dist)\n",
    "\n",
    "        elif(ori=='d'):\n",
    "            virtualx,virtualy=(bloc.rect.x),(bloc.rect.y-dist)\n",
    "        \n",
    "        return (virtualx,virtualy)\n",
    "    \n",
    "    def addBlock(self):\n",
    "        \n",
    "        lastbloc=self.head\n",
    "        \n",
    "        if(len(self.blocks)>0):\n",
    "            lastbloc=self.blocks[-1]\n",
    "        bx,by=self.calcBodyPosition(lastbloc)\n",
    "        nbody= body(bx,by,lastbloc.orientation,lastbloc.image)\n",
    "        self.blocks.append(nbody)"
   ]
  },
  {
   "cell_type": "code",
   "execution_count": 61,
   "metadata": {
    "collapsed": true
   },
   "outputs": [],
   "source": [
    "def renderSnake(display,snake):\n",
    "    \n",
    "    headImg=snake.headImg\n",
    "    bodyImg=snake.bodyImg\n",
    "    \n",
    "    #add head\n",
    "    display.blit(headImg,snake.head.get_render_rect())\n",
    "    \n",
    "    #add body\n",
    "    for body in snake.blocks:\n",
    "        display.blit(bodyImg,body.get_render_rect())\n",
    "      \n",
    "    pygame.display.update()\n",
    "        \n",
    "        "
   ]
  },
  {
   "cell_type": "code",
   "execution_count": 62,
   "metadata": {},
   "outputs": [
    {
     "ename": "SystemExit",
     "evalue": "",
     "output_type": "error",
     "traceback": [
      "An exception has occurred, use %tb to see the full traceback.\n",
      "\u001b[1;31mSystemExit\u001b[0m\n"
     ]
    },
    {
     "name": "stderr",
     "output_type": "stream",
     "text": [
      "C:\\Users\\Fernando\\Anaconda3\\lib\\site-packages\\IPython\\core\\interactiveshell.py:2870: UserWarning: To exit: use 'exit', 'quit', or Ctrl-D.\n",
      "  warn(\"To exit: use 'exit', 'quit', or Ctrl-D.\", stacklevel=1)\n"
     ]
    }
   ],
   "source": [
    "#init\n",
    "pygame.init()\n",
    "dim=600\n",
    "displaysurf=pygame.display.set_mode((dim,dim))\n",
    "pygame.display.set_caption('Snaike')\n",
    "fpsClock = pygame.time.Clock()\n",
    "FPS = 120\n",
    "\n",
    "\n",
    "#emilia variables\n",
    "emiliaImg = pygame.image.load('blue.png')\n",
    "emiliaSnake = Snake(int(dim/2),int(dim/2),emiliaImg)\n",
    "\n",
    "#subaro\n",
    "subaroImg=pygame.image.load('blue.png')\n",
    "emiliaSnake.bodyImg=subaroImg\n",
    "\n",
    "for i in range(10):\n",
    "    emiliaSnake.addBlock()\n",
    "\n",
    "orientation='r'\n",
    "\n",
    "#game loop\n",
    "while True:   \n",
    "    displaysurf.fill(WHITE)\n",
    "    \n",
    "    for event in pygame.event.get():\n",
    "        if event.type== QUIT:\n",
    "            pygame.quit()\n",
    "            sys.exit()\n",
    "        elif event.type==KEYDOWN:\n",
    "            if event.key==K_UP and orientation!='d':\n",
    "                orientation='u'\n",
    "            elif event.key==K_DOWN and orientation!='u':\n",
    "                orientation='d'\n",
    "            elif event.key==K_RIGHT and orientation!='l':\n",
    "                orientation='r'\n",
    "            elif event.key==K_LEFT and orientation!='r':\n",
    "                orientation='l'\n",
    "    \n",
    "    #emilia motion\n",
    "    emiliaSnake.move(orientation)\n",
    "    if(not emiliaSnake.isAlive()):\n",
    "        print(\"game over\")\n",
    "    \n",
    "    renderSnake(displaysurf,emiliaSnake)\n",
    "    fpsClock.tick(FPS)\n",
    "\n",
    "            "
   ]
  }
 ],
 "metadata": {
  "kernelspec": {
   "display_name": "Python 3",
   "language": "python",
   "name": "python3"
  },
  "language_info": {
   "codemirror_mode": {
    "name": "ipython",
    "version": 3
   },
   "file_extension": ".py",
   "mimetype": "text/x-python",
   "name": "python",
   "nbconvert_exporter": "python",
   "pygments_lexer": "ipython3",
   "version": "3.6.0"
  }
 },
 "nbformat": 4,
 "nbformat_minor": 2
}
