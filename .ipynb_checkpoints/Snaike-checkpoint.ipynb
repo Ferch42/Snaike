{
 "cells": [
  {
   "cell_type": "markdown",
   "metadata": {},
   "source": [
    "# Snaike game with neural nets"
   ]
  },
  {
   "cell_type": "markdown",
   "metadata": {},
   "source": [
    "## Importing modules"
   ]
  },
  {
   "cell_type": "code",
   "execution_count": 1,
   "metadata": {},
   "outputs": [
    {
     "name": "stdout",
     "output_type": "stream",
     "text": [
      "curses is not supported on this machine (please install/reinstall curses for an optimal experience)\n"
     ]
    }
   ],
   "source": [
    "from Snake import Snake\n",
    "from body import body\n",
    "from head import head\n",
    "from food import food\n",
    "from SnakeTools import *\n",
    "from SnakeRender import *\n",
    "from pygame.locals import *\n",
    "from SnakeAi import *\n",
    "from PopulationTools import *\n",
    "import pygame,sys\n",
    "import pickle\n",
    "import tensorflow as tf\n",
    "import matplotlib.pyplot as plt\n",
    "import time\n",
    "import gc\n",
    "import os"
   ]
  },
  {
   "cell_type": "code",
   "execution_count": 2,
   "metadata": {
    "collapsed": true
   },
   "outputs": [],
   "source": [
    "#colors\n",
    "WHITE = (255, 255, 255)\n",
    "BLACK=(0,0,0)\n",
    "RED= (220,20,60)"
   ]
  },
  {
   "cell_type": "code",
   "execution_count": 3,
   "metadata": {},
   "outputs": [
    {
     "name": "stdout",
     "output_type": "stream",
     "text": [
      "Initializing game\n"
     ]
    }
   ],
   "source": [
    "#init\n",
    "print(\"Initializing game\")\n",
    "pygame.init()\n",
    "score=0\n",
    "attempt=1\n",
    "attempt_flag=True\n",
    "\n",
    "#Font config\n",
    "pygame.font.init() \n",
    "myfont = pygame.font.SysFont('Comic Sans MS', 25)\n",
    "game_name = myfont.render('Snaike Game', False, (220,20,60))\n",
    "myfont2 = pygame.font.SysFont('Comic Sans MS', 25)\n",
    "\n",
    "#Screen config\n",
    "dim=500\n",
    "dim2=int(dim/2)\n",
    "displaysurf=pygame.display.set_mode((dim,dim+150))\n",
    "pygame.display.set_caption('Snaike')\n",
    "\n",
    "#FPS\n",
    "fpsClock = pygame.time.Clock()\n",
    "FPS = 45\n",
    "framecount=0\n",
    "\n",
    "\n",
    "#emilia variables\n",
    "emiliaImg = pygame.image.load('blue.png')\n",
    "emiliaSnake = Snake(int(dim/2),int(dim/2),emiliaImg,ori='r')\n",
    "emiliaSnake.createWalls(dim)\n",
    "\n",
    "#subaro\n",
    "subaroImg=pygame.image.load('blue.png')\n",
    "emiliaSnake.bodyImg=subaroImg\n",
    "\n",
    "#game over image\n",
    "gameoverImg=pygame.image.load('gameover.jpg')\n",
    "\n",
    "#food image\n",
    "foodImg=pygame.image.load('hamb.png')\n",
    "foood=newFood(foodImg,dim)\n",
    "\n",
    "#orientation\n",
    "lastorientation=emiliaSnake.orientation\n",
    "orientation=emiliaSnake.orientation\n",
    "gameOverFlag=False\n"
   ]
  },
  {
   "cell_type": "code",
   "execution_count": 4,
   "metadata": {
    "collapsed": true
   },
   "outputs": [],
   "source": [
    "#Session\n",
    "session = tf.Session()\n",
    "session.run(tf.global_variables_initializer())"
   ]
  },
  {
   "cell_type": "code",
   "execution_count": 5,
   "metadata": {
    "collapsed": true
   },
   "outputs": [],
   "source": [
    "#Neural net configuration\n",
    "inputlayer=4\n",
    "layer1=30\n",
    "layer2=3\n",
    "chromsize=243"
   ]
  },
  {
   "cell_type": "code",
   "execution_count": 6,
   "metadata": {
    "collapsed": true
   },
   "outputs": [],
   "source": [
    "#Placeholder\n",
    "x=tf.placeholder(tf.float32,shape=[None,inputlayer], name='x')\n",
    "\n",
    "def CreateNeuralNet(chromossome):\n",
    "    #The first (inputlayer*layer1) numbers are the weights of the first layer, and the next (layer1) numbers are their biases\n",
    "    #This logic is applyied to the next layers\n",
    "    w1=chromossome[0:(inputlayer*layer1)].reshape([inputlayer,layer1])\n",
    "    b1=chromossome[(inputlayer*layer1):(inputlayer*layer1+layer1)]\n",
    "    w2=chromossome[(inputlayer*layer1+layer1):(inputlayer*layer1+layer1+layer1*layer2)].reshape([layer1,layer2])\n",
    "    b2=chromossome[(inputlayer*layer1+layer1+layer1*layer2):(inputlayer*layer1+layer1+layer1*layer2+layer2)]\n",
    "    \n",
    "    #Neural net definition\n",
    "    w1=tf.Variable(w1,dtype=tf.float32)\n",
    "    b1=tf.Variable(b1,dtype=tf.float32)\n",
    "    first_layer=tf.nn.relu(tf.matmul(x,w1)+b1)\n",
    "    w2=tf.Variable(w2,dtype=tf.float32)\n",
    "    b2=tf.Variable(b2,dtype=tf.float32)\n",
    "    second_layer=tf.nn.softmax(tf.matmul(first_layer,w2)+b2)\n",
    "    out_layer=tf.argmax(second_layer,axis=1)\n",
    "    session.run(tf.global_variables_initializer())\n",
    "    \n",
    "    #The tensor that is returned outputs the class directly\n",
    "    return out_layer"
   ]
  },
  {
   "cell_type": "code",
   "execution_count": null,
   "metadata": {},
   "outputs": [
    {
     "name": "stdout",
     "output_type": "stream",
     "text": [
      "['Gen_13_.gen', 'Gen_12_.gen', 'Gen_11_.gen', 'Gen_10_.gen', 'Gen_9_.gen', 'Gen_8_.gen', 'Gen_7_.gen', 'Gen_6_.gen', 'Gen_5_.gen', 'Gen_4_.gen', 'Gen_3_.gen', 'Gen_2_.gen', 'Gen_1_.gen']\n"
     ]
    }
   ],
   "source": [
    "#Pool\n",
    "pool=SubjectPool()\n",
    "subject=pool.get_subj()\n",
    "neural_net=CreateNeuralNet(subject[1])\n",
    "\n",
    "#Defined as time + score*time\n",
    "fitness=0\n",
    "timeout=1.5\n",
    "food_time=time.time()\n",
    "hamb=0\n",
    "emiliaSnake.addBlock()\n"
   ]
  },
  {
   "cell_type": "code",
   "execution_count": null,
   "metadata": {
    "scrolled": false
   },
   "outputs": [
    {
     "name": "stdout",
     "output_type": "stream",
     "text": [
      "game starts\n",
      "List of the generation:\n",
      "[['Gen12_chrom0', 0.15166306495666504], ['Gen12_chrom1', 0.07820773124694824], ['Gen12_chrom2', 0.1826169490814209], ['Gen12_chrom3', 0.17766451835632324], ['Gen12_chrom4', 1.500171422958374], ['Gen12_chrom5', 0.08287596702575684], ['Gen12_chrom6', 1.5008671283721924], ['Gen12_chrom7', 0.19077014923095703], ['Gen12_chrom8', 1.5000989437103271], ['Gen12_chrom9', 0.09324812889099121], ['Gen12_chrom10', 1.5002455711364746], ['Gen12_chrom11', 1.5008385181427002], ['Gen12_chrom12', 0.08118939399719238], ['Gen12_chrom13', 0.08770561218261719], ['Gen12_chrom14', 0.09271550178527832], ['Gen12_chrom15', 0.0837395191192627], ['Gen12_chrom16', 0.2258143424987793], ['Gen12_chrom17', 1.5001153945922852], ['Gen12_chrom18', 0.20657658576965332], ['Gen12_chrom19', 1.5001249313354492], ['Gen12_chrom20', 0.10227108001708984], ['Gen12_chrom21', 0.003611326217651367], ['Gen12_chrom22', 0.003509521484375], ['Gen12_chrom23', 0.08620190620422363], ['Gen12_chrom24', 0.08622026443481445], ['Gen12_chrom25', 0.09026932716369629], ['Gen12_chrom26', 0.2036879062652588], ['Gen12_chrom27', 1.5004498958587646], ['Gen12_chrom28', 0.09124302864074707], ['Gen12_chrom29', 0.08875226974487305], ['Gen12_chrom30', 0.09071111679077148], ['Gen12_chrom31', 0.10678339004516602], ['Gen12_chrom32', 0.0035104751586914062], ['Gen12_chrom33', 0.004005908966064453], ['Gen12_chrom34', 0.09221887588500977], ['Gen12_chrom35', 0.09274959564208984], ['Gen12_chrom36', 0.09623050689697266], ['Gen12_chrom37', 0.20596051216125488], ['Gen12_chrom38', 0.19702768325805664], ['Gen12_chrom39', 0.10327506065368652], ['Gen12_chrom40', 0.29018449783325195], ['Gen12_chrom41', 0.0030088424682617188], ['Gen12_chrom42', 0.09575510025024414], ['Gen12_chrom43', 1.5008225440979004], ['Gen12_chrom44', 1.5009536743164062], ['Gen12_chrom45', 1.5006721019744873], ['Gen12_chrom46', 0.20333242416381836], ['Gen12_chrom47', 0.22165465354919434], ['Gen12_chrom48', 0.0035092830657958984], ['Gen12_chrom49', 0.0998232364654541], ['Gen12_chrom50', 0.10650420188903809], ['Gen12_chrom51', 1.5008373260498047], ['Gen12_chrom52', 0.10126686096191406], ['Gen12_chrom53', 0.1002647876739502], ['Gen12_chrom54', 1.5001394748687744], ['Gen12_chrom55', 0.003509521484375], ['Gen12_chrom56', 0.10025572776794434], ['Gen12_chrom57', 0.31055474281311035], ['Gen12_chrom58', 1.500044345855713], ['Gen12_chrom59', 1.5002965927124023], ['Gen12_chrom60', 0.21262049674987793], ['Gen12_chrom61', 0.10778617858886719], ['Gen12_chrom62', 0.1037755012512207], ['Gen12_chrom63', 1.500946044921875], ['Gen12_chrom64', 0.20506024360656738], ['Gen12_chrom65', 1.5008134841918945], ['Gen12_chrom66', 1.500675916671753], ['Gen12_chrom67', 1.5003948211669922], ['Gen12_chrom68', 1.5012125968933105], ['Gen12_chrom69', 1.50058913230896], ['Gen12_chrom70', 0.21682071685791016], ['Gen12_chrom71', 1.500612735748291], ['Gen12_chrom72', 1.5005781650543213], ['Gen12_chrom73', 1.500624418258667], ['Gen12_chrom74', 0.22380614280700684], ['Gen12_chrom75', 1.5008189678192139], ['Gen12_chrom76', 0.21870636940002441], ['Gen12_chrom77', 1.500394344329834], ['Gen12_chrom78', 1.5008537769317627], ['Gen12_chrom79', 0.21171331405639648], ['Gen12_chrom80', 0.11233282089233398], ['Gen12_chrom81', 1.5003807544708252], ['Gen12_chrom82', 0.12031960487365723], ['Gen12_chrom83', 1.5001037120819092], ['Gen12_chrom84', 0.11479544639587402], ['Gen12_chrom85', 0.11580824851989746], ['Gen12_chrom86', 0.13034749031066895], ['Gen12_chrom87', 0.22078371047973633], ['Gen12_chrom88', 1.500274658203125], ['Gen12_chrom89', 0.003498077392578125], ['Gen12_chrom90', 0.11780214309692383], ['Gen12_chrom91', 0.13282132148742676], ['Gen12_chrom92', 0.12682819366455078], ['Gen12_chrom93', 0.14137601852416992], ['Gen12_chrom94', 0.003509521484375], ['Gen12_chrom95', 0.12185120582580566], ['Gen12_chrom96', 1.5010337829589844], ['Gen12_chrom97', 0.14105629920959473], ['Gen12_chrom98', 0.32277917861938477], ['Gen12_chrom99', 1.5001037120819092]]\n",
      "==================================\n",
      "most_adapted\n",
      "[('Gen12_chrom68', 1.5012125968933105), ('Gen12_chrom96', 1.5010337829589844), ('Gen12_chrom44', 1.5009536743164062), ('Gen12_chrom63', 1.500946044921875), ('Gen12_chrom6', 1.5008671283721924), ('Gen12_chrom78', 1.5008537769317627), ('Gen12_chrom11', 1.5008385181427002), ('Gen12_chrom51', 1.5008373260498047), ('Gen12_chrom43', 1.5008225440979004), ('Gen12_chrom75', 1.5008189678192139)]\n",
      "----------------------------------\n",
      "List of the generation:\n",
      "[['Gen14_chrom0', 0.0255429744720459], ['Gen14_chrom1', 0.0029802322387695312], ['Gen14_chrom2', 0.020893335342407227], ['Gen14_chrom3', 1.5004346370697021], ['Gen14_chrom4', 1.5007719993591309], ['Gen14_chrom5', 0.12269711494445801], ['Gen14_chrom6', 0.1050863265991211], ['Gen14_chrom7', 0.021529197692871094], ['Gen14_chrom8', 1.5005733966827393], ['Gen14_chrom9', 1.5007169246673584], ['Gen14_chrom10', 0.003508329391479492], ['Gen14_chrom11', 1.500492811203003], ['Gen14_chrom12', 1.500044584274292], ['Gen14_chrom13', 0.02256035804748535], ['Gen14_chrom14', 0.02306079864501953], ['Gen14_chrom15', 0.024035930633544922], ['Gen14_chrom16', 0.14137649536132812], ['Gen14_chrom17', 0.03005838394165039], ['Gen14_chrom18', 0.024065017700195312], ['Gen14_chrom19', 0.03208637237548828], ['Gen14_chrom20', 0.021561145782470703], ['Gen14_chrom21', 0.03208565711975098], ['Gen14_chrom22', 0.02659153938293457], ['Gen14_chrom23', 0.024590253829956055], ['Gen14_chrom24', 1.500079870223999], ['Gen14_chrom25', 0.025560855865478516], ['Gen14_chrom26', 0.06717801094055176], ['Gen14_chrom27', 0.050110816955566406], ['Gen14_chrom28', 1.5005135536193848], ['Gen14_chrom29', 1.5002868175506592], ['Gen14_chrom30', 0.03256058692932129], ['Gen14_chrom31', 0.06366610527038574], ['Gen14_chrom32', 1.5006890296936035], ['Gen14_chrom33', 0.031587839126586914], ['Gen14_chrom34', 0.027143478393554688], ['Gen14_chrom35', 0.03406405448913574], ['Gen14_chrom36', 0.02555108070373535], ['Gen14_chrom37', 0.03509378433227539], ['Gen14_chrom38', 1.5006585121154785], ['Gen14_chrom39', 1.500065803527832], ['Gen14_chrom40', 1.5006828308105469], ['Gen14_chrom41', 0.07015800476074219], ['Gen14_chrom42', 0.0356602668762207], ['Gen14_chrom43', 1.5002286434173584], ['Gen14_chrom44', 0.03506612777709961], ['Gen14_chrom45', 0.030074596405029297], ['Gen14_chrom46', 0.1378633975982666], ['Gen14_chrom47', 0.22722458839416504], ['Gen14_chrom48', 1.5000290870666504], ['Gen14_chrom49', 1.5000793933868408], ['Gen14_chrom50', 1.500678300857544], ['Gen14_chrom51', 1.5004551410675049], ['Gen14_chrom52', 1.5002477169036865], ['Gen14_chrom53', 0.03359055519104004], ['Gen14_chrom54', 0.02908015251159668], ['Gen14_chrom55', 0.031072616577148438], ['Gen14_chrom56', 0.4160277843475342], ['Gen14_chrom57', 0.04058027267456055], ['Gen14_chrom58', 1.5007579326629639], ['Gen14_chrom59', 0.03259158134460449], ['Gen14_chrom60', 0.049657583236694336], ['Gen14_chrom61', 0.03308820724487305], ['Gen14_chrom62', 1.5008273124694824], ['Gen14_chrom63', 0.03609442710876465], ['Gen14_chrom64', 0.03810262680053711], ['Gen14_chrom65', 1.5000505447387695], ['Gen14_chrom66', 1.500685453414917], ['Gen14_chrom67', 1.5002527236938477], ['Gen14_chrom68', 1.5007219314575195], ['Gen14_chrom69', 1.5012917518615723], ['Gen14_chrom70', 0.036067962646484375], ['Gen14_chrom71', 0.03659868240356445], ['Gen14_chrom72', 0.04211235046386719], ['Gen14_chrom73', 0.004010915756225586], ['Gen14_chrom74', 0.03657031059265137], ['Gen14_chrom75', 1.5004737377166748], ['Gen14_chrom76', 0.03760027885437012], ['Gen14_chrom77', 0.037600040435791016], ['Gen14_chrom78', 1.5000293254852295], ['Gen14_chrom79', 1.5005171298980713], ['Gen14_chrom80', 0.04109930992126465], ['Gen14_chrom81', 1.5008306503295898], ['Gen14_chrom82', 1.500999927520752], ['Gen14_chrom83', 5.123391151428223], ['Gen14_chrom84', 3.5285916328430176], ['Gen14_chrom85', 0.048629045486450195], ['Gen14_chrom86', 0.039104461669921875], ['Gen14_chrom87', 0.039107322692871094], ['Gen14_chrom88', 1.5008959770202637], ['Gen14_chrom89', 1.5000574588775635], ['Gen14_chrom90', 0.04721546173095703], ['Gen14_chrom91', 1.5006203651428223], ['Gen14_chrom92', 0.052129268646240234], ['Gen14_chrom93', 1.5014424324035645], ['Gen14_chrom94', 0.04612255096435547], ['Gen14_chrom95', 0.041616201400756836], ['Gen14_chrom96', 0.16841983795166016], ['Gen14_chrom97', 0.15014219284057617], ['Gen14_chrom98', 0.0416109561920166], ['Gen14_chrom99', 0.06197547912597656]]\n",
      "==================================\n",
      "most_adapted\n",
      "[('Gen14_chrom83', 5.123391151428223), ('Gen14_chrom84', 3.5285916328430176), ('Gen14_chrom93', 1.5014424324035645), ('Gen14_chrom69', 1.5012917518615723), ('Gen14_chrom82', 1.500999927520752), ('Gen14_chrom88', 1.5008959770202637), ('Gen14_chrom81', 1.5008306503295898), ('Gen14_chrom62', 1.5008273124694824), ('Gen14_chrom4', 1.5007719993591309), ('Gen14_chrom58', 1.5007579326629639)]\n",
      "----------------------------------\n"
     ]
    },
    {
     "name": "stdout",
     "output_type": "stream",
     "text": [
      "List of the generation:\n",
      "[['Gen15_chrom0', 0.004011631011962891], ['Gen15_chrom1', 0.0029821395874023438], ['Gen15_chrom2', 0.042696475982666016], ['Gen15_chrom3', 0.13237810134887695], ['Gen15_chrom4', 0.04559803009033203], ['Gen15_chrom5', 0.14840960502624512], ['Gen15_chrom6', 0.15467572212219238], ['Gen15_chrom7', 1.5001041889190674], ['Gen15_chrom8', 0.046358346939086914], ['Gen15_chrom9', 1.5001580715179443], ['Gen15_chrom10', 0.05865621566772461], ['Gen15_chrom11', 0.055145978927612305], ['Gen15_chrom12', 1.5008654594421387], ['Gen15_chrom13', 0.0035092830657958984], ['Gen15_chrom14', 0.0481266975402832], ['Gen15_chrom15', 1.5005145072937012], ['Gen15_chrom16', 0.15219736099243164], ['Gen15_chrom17', 0.05662679672241211], ['Gen15_chrom18', 0.049603939056396484], ['Gen15_chrom19', 1.5010249614715576], ['Gen15_chrom20', 0.16349434852600098], ['Gen15_chrom21', 0.04812788963317871], ['Gen15_chrom22', 1.500922441482544], ['Gen15_chrom23', 0.04963231086730957], ['Gen15_chrom24', 0.05013275146484375], ['Gen15_chrom25', 0.06016063690185547], ['Gen15_chrom26', 0.0516362190246582], ['Gen15_chrom27', 0.052139997482299805], ['Gen15_chrom28', 0.053646087646484375], ['Gen15_chrom29', 0.23277044296264648], ['Gen15_chrom30', 1.5002472400665283], ['Gen15_chrom31', 1.5004849433898926], ['Gen15_chrom32', 0.07071614265441895], ['Gen15_chrom33', 0.05313682556152344], ['Gen15_chrom34', 1.5006403923034668], ['Gen15_chrom35', 0.06668686866760254], ['Gen15_chrom36', 1.500121831893921], ['Gen15_chrom37', 1.5000994205474854], ['Gen15_chrom38', 3.8083505630493164], ['Gen15_chrom39', 0.19396686553955078], ['Gen15_chrom40', 1.5009682178497314], ['Gen15_chrom41', 0.05665016174316406], ['Gen15_chrom42', 0.0551142692565918], ['Gen15_chrom43', 0.06417226791381836], ['Gen15_chrom44', 1.5004959106445312], ['Gen15_chrom45', 0.27620768547058105], ['Gen15_chrom46', 1.500025987625122], ['Gen15_chrom47', 0.06564640998840332], ['Gen15_chrom48', 0.08171629905700684], ['Gen15_chrom49', 0.06319665908813477], ['Gen15_chrom50', 0.05818486213684082], ['Gen15_chrom51', 1.5009644031524658], ['Gen15_chrom52', 1.5005550384521484], ['Gen15_chrom53', 0.060868263244628906], ['Gen15_chrom54', 0.060176849365234375], ['Gen15_chrom55', 0.09976983070373535], ['Gen15_chrom56', 0.06667733192443848], ['Gen15_chrom57', 0.0035085678100585938], ['Gen15_chrom58', 0.003984689712524414], ['Gen15_chrom59', 0.06068849563598633], ['Gen15_chrom60', 4.538825035095215], ['Gen15_chrom61', 0.08277273178100586], ['Gen15_chrom62', 1.500098705291748], ['Gen15_chrom63', 0.0651702880859375], ['Gen15_chrom64', 1.5006263256072998], ['Gen15_chrom65', 0.06567716598510742], ['Gen15_chrom66', 1.5004348754882812], ['Gen15_chrom67', 0.0045413970947265625], ['Gen15_chrom68', 0.06464076042175293], ['Gen15_chrom69', 0.0740041732788086], ['Gen15_chrom70', 1.5000989437103271], ['Gen15_chrom71', 1.5001204013824463], ['Gen15_chrom72', 0.07475686073303223], ['Gen15_chrom73', 0.07018685340881348], ['Gen15_chrom74', 0.07118916511535645], ['Gen15_chrom75', 0.07827067375183105], ['Gen15_chrom76', 0.20627927780151367], ['Gen15_chrom77', 0.004512310028076172], ['Gen15_chrom78', 0.06768178939819336], ['Gen15_chrom79', 0.07169055938720703], ['Gen15_chrom80', 1.5005075931549072], ['Gen15_chrom81', 0.0686788558959961], ['Gen15_chrom82', 0.06966590881347656], ['Gen15_chrom83', 1.5001261234283447], ['Gen15_chrom84', 0.07520556449890137], ['Gen15_chrom85', 0.07316827774047852], ['Gen15_chrom86', 1.5007317066192627], ['Gen15_chrom87', 0.07622933387756348], ['Gen15_chrom88', 1.500415325164795], ['Gen15_chrom89', 3.5095367431640625], ['Gen15_chrom90', 0.08422446250915527], ['Gen15_chrom91', 1.5001308917999268], ['Gen15_chrom92', 0.19652390480041504], ['Gen15_chrom93', 0.07871127128601074], ['Gen15_chrom94', 0.003509521484375], ['Gen15_chrom95', 1.500307321548462], ['Gen15_chrom96', 1.5006434917449951], ['Gen15_chrom97', 0.004009723663330078], ['Gen15_chrom98', 1.5006020069122314], ['Gen15_chrom99', 1.5008540153503418]]\n",
      "==================================\n",
      "most_adapted\n",
      "[('Gen15_chrom60', 4.538825035095215), ('Gen15_chrom38', 3.8083505630493164), ('Gen15_chrom89', 3.5095367431640625), ('Gen15_chrom19', 1.5010249614715576), ('Gen15_chrom40', 1.5009682178497314), ('Gen15_chrom51', 1.5009644031524658), ('Gen15_chrom22', 1.500922441482544), ('Gen15_chrom12', 1.5008654594421387), ('Gen15_chrom99', 1.5008540153503418), ('Gen15_chrom86', 1.5007317066192627)]\n",
      "----------------------------------\n",
      "List of the generation:\n",
      "[['Gen16_chrom0', 0.2145683765411377], ['Gen16_chrom1', 0.16744446754455566], ['Gen16_chrom2', 1.500967025756836], ['Gen16_chrom3', 0.0791769027709961], ['Gen16_chrom4', 0.08174443244934082], ['Gen16_chrom5', 1.5011978149414062], ['Gen16_chrom6', 1.5000793933868408], ['Gen16_chrom7', 0.19552278518676758], ['Gen16_chrom8', 1.5005033016204834], ['Gen16_chrom9', 0.08622956275939941], ['Gen16_chrom10', 0.003509044647216797], ['Gen16_chrom11', 0.0034863948822021484], ['Gen16_chrom12', 0.08719968795776367], ['Gen16_chrom13', 1.5001835823059082], ['Gen16_chrom14', 0.18939542770385742], ['Gen16_chrom15', 1.500232458114624], ['Gen16_chrom16', 0.18974781036376953], ['Gen16_chrom17', 0.09176492691040039], ['Gen16_chrom18', 0.08422303199768066], ['Gen16_chrom19', 1.500159502029419], ['Gen16_chrom20', 0.003505706787109375], ['Gen16_chrom21', 0.08522939682006836], ['Gen16_chrom22', 0.09324455261230469], ['Gen16_chrom23', 1.5002827644348145], ['Gen16_chrom24', 1.5004355907440186], ['Gen16_chrom25', 1.5001320838928223], ['Gen16_chrom26', 1.500556468963623], ['Gen16_chrom27', 1.5007789134979248], ['Gen16_chrom28', 0.004512310028076172], ['Gen16_chrom29', 0.09431004524230957], ['Gen16_chrom30', 0.0937492847442627], ['Gen16_chrom31', 0.09480404853820801], ['Gen16_chrom32', 0.09979104995727539], ['Gen16_chrom33', 0.00448918342590332], ['Gen16_chrom34', 0.11184096336364746], ['Gen16_chrom35', 0.09324789047241211], ['Gen16_chrom36', 0.09924483299255371], ['Gen16_chrom37', 1.50054931640625], ['Gen16_chrom38', 0.10075688362121582], ['Gen16_chrom39', 0.12018227577209473], ['Gen16_chrom40', 1.500762701034546], ['Gen16_chrom41', 0.11879277229309082], ['Gen16_chrom42', 0.10224437713623047], ['Gen16_chrom43', 0.0045125484466552734], ['Gen16_chrom44', 0.003979206085205078], ['Gen16_chrom45', 0.10525298118591309], ['Gen16_chrom46', 1.5010018348693848], ['Gen16_chrom47', 1.5000948905944824], ['Gen16_chrom48', 0.09778594970703125], ['Gen16_chrom49', 0.10246562957763672], ['Gen16_chrom50', 0.4181230068206787], ['Gen16_chrom51', 1.5004427433013916], ['Gen16_chrom52', 0.4126408100128174], ['Gen16_chrom53', 0.30280470848083496], ['Gen16_chrom54', 1.5003039836883545], ['Gen16_chrom55', 1.5007474422454834], ['Gen16_chrom56', 0.21730375289916992], ['Gen16_chrom57', 1.500248908996582], ['Gen16_chrom58', 0.0030083656311035156], ['Gen16_chrom59', 0.1108238697052002], ['Gen16_chrom60', 0.11330246925354004], ['Gen16_chrom61', 0.10828948020935059], ['Gen16_chrom62', 1.500626564025879], ['Gen16_chrom63', 0.10879206657409668], ['Gen16_chrom64', 1.5022671222686768], ['Gen16_chrom65', 1.5003852844238281], ['Gen16_chrom66', 0.11427617073059082], ['Gen16_chrom67', 0.11232376098632812], ['Gen16_chrom68', 0.11782193183898926], ['Gen16_chrom69', 1.5010147094726562], ['Gen16_chrom70', 1.5006074905395508], ['Gen16_chrom71', 1.5001871585845947], ['Gen16_chrom72', 0.21944832801818848], ['Gen16_chrom73', 4.410194396972656], ['Gen16_chrom74', 0.3200559616088867], ['Gen16_chrom75', 1.5003411769866943], ['Gen16_chrom76', 0.11884522438049316], ['Gen16_chrom77', 0.12934374809265137], ['Gen16_chrom78', 0.15240979194641113], ['Gen16_chrom79', 0.12425565719604492], ['Gen16_chrom80', 0.5313818454742432], ['Gen16_chrom81', 1.5008058547973633], ['Gen16_chrom82', 0.12683749198913574], ['Gen16_chrom83', 0.0035076141357421875], ['Gen16_chrom84', 1.501558780670166], ['Gen16_chrom85', 0.1323246955871582], ['Gen16_chrom86', 0.12330126762390137], ['Gen16_chrom87', 1.5003900527954102], ['Gen16_chrom88', 1.5013957023620605], ['Gen16_chrom89', 0.0040130615234375], ['Gen16_chrom90', 0.0035092830657958984], ['Gen16_chrom91', 0.14847397804260254], ['Gen16_chrom92', 0.003503561019897461], ['Gen16_chrom93', 0.0035092830657958984], ['Gen16_chrom94', 0.12383008003234863], ['Gen16_chrom95', 1.500028371810913], ['Gen16_chrom96', 1.5005817413330078], ['Gen16_chrom97', 1.500436782836914], ['Gen16_chrom98', 1.5007565021514893], ['Gen16_chrom99', 1.5006275177001953]]\n",
      "==================================\n",
      "most_adapted\n",
      "[('Gen16_chrom73', 4.410194396972656), ('Gen16_chrom64', 1.5022671222686768), ('Gen16_chrom84', 1.501558780670166), ('Gen16_chrom88', 1.5013957023620605), ('Gen16_chrom5', 1.5011978149414062), ('Gen16_chrom69', 1.5010147094726562), ('Gen16_chrom46', 1.5010018348693848), ('Gen16_chrom2', 1.500967025756836), ('Gen16_chrom81', 1.5008058547973633), ('Gen16_chrom27', 1.5007789134979248)]\n",
      "----------------------------------\n"
     ]
    }
   ],
   "source": [
    "#game loop\n",
    "print(\"game starts\")\n",
    "Snake_time=time.time()\n",
    "\n",
    "while True:   \n",
    "    \n",
    "    #Ordinary display\n",
    "    displaysurf.fill(WHITE)\n",
    "    pygame.draw.line(displaysurf,BLACK,(0,dim),(dim,dim))\n",
    "    displaysurf.blit(game_name,(10,dim+10))\n",
    "    game_score= myfont2.render('Score: '+str(score), False, (0, 0, 0))\n",
    "    displaysurf.blit(game_score,(10,dim+40))\n",
    "    now=time.time()\n",
    "    game_time= myfont2.render('Time: '+str(int(now-Snake_time)), False, (0, 0, 0))\n",
    "    displaysurf.blit(game_time,(10,dim+70))\n",
    "    game_attempt= myfont2.render('Attempt: '+str(attempt), False, (0, 0, 0))\n",
    "    displaysurf.blit(game_attempt,(10,dim+100))\n",
    "    game_subject= myfont2.render('Subject: '+subject[0], False, (0, 0, 0))   \n",
    "    displaysurf.blit(game_subject,(dim2-50,dim+10))\n",
    "    timedelta=now-Snake_time\n",
    "    game_fitness=myfont2.render('Fitness: '+str(round(fitness,3)), False, (0, 0, 0))   \n",
    "    displaysurf.blit(game_fitness,(dim2-50,dim+40))\n",
    "    game_hamb=myfont2.render('Hamb eaten: '+str(hamb), False, (0, 0, 0))   \n",
    "    displaysurf.blit(game_hamb,(dim2-50,dim+70))\n",
    "    \n",
    "    for event in pygame.event.get():\n",
    "        if event.type== QUIT:\n",
    "            pygame.quit()\n",
    "            sys.exit()\n",
    "        elif event.type==KEYDOWN:\n",
    "            if event.key==K_UP and orientation!='d':\n",
    "                orientation='u'\n",
    "            elif event.key==K_DOWN and orientation!='u':\n",
    "                orientation='d'\n",
    "            elif event.key==K_RIGHT and orientation!='l':\n",
    "                orientation='r'\n",
    "            elif event.key==K_LEFT and orientation!='r':\n",
    "                orientation='l'\n",
    "            elif event.key==K_f:\n",
    "                emiliaSnake = Snake(int(dim/2),int(dim/2),emiliaImg)\n",
    "                emiliaSnake.createWalls(dim)\n",
    "                emiliaSnake.bodyImg=subaroImg\n",
    "                emiliaSnake.addBlock()\n",
    "                gameOverFlag=False\n",
    "                attempt_flag=True\n",
    "                food_time=time.time()\n",
    "                subject=pool.get_subj()\n",
    "                neural_net=CreateNeuralNet(subject[1])\n",
    "                \n",
    "            elif event.key==K_n:\n",
    "                pygame.quit()\n",
    "                sys.exit()\n",
    "    \n",
    "    framecount=(framecount+1)%5\n",
    "    fitness=timedelta*(score+1)\n",
    "    fooddelta=now-food_time\n",
    "    if(fooddelta>=timeout):\n",
    "        emiliaSnake.alive=False\n",
    "    \n",
    "    #emilia motion\n",
    "    if(emiliaSnake.isAlive()):\n",
    "        \n",
    "        \n",
    "        if(framecount==0):\n",
    "            atr1,atr2,atr3=emiliaSnake.getAtr()\n",
    "            ang,_= foodPos(emiliaSnake,foood)\n",
    "            ang=int(ang)\n",
    "            features=[[atr1,atr2,atr3,ang]] \n",
    "            \n",
    "            mv=session.run(neural_net,feed_dict={x:features})-1\n",
    "            if(orientation=='u' and mv==1):\n",
    "                orientation='r'\n",
    "            elif(orientation=='r' and mv==-1):\n",
    "                orientation='u'\n",
    "            else:\n",
    "                orientation=numbOri(mv+oriNumb(orientation))\n",
    "            \n",
    "        emiliaSnake.move(orientation)\n",
    "        emiliaSnake.move(orientation)\n",
    "    \n",
    "    if(not emiliaSnake.isAlive()):\n",
    "        gameOverFlag=True\n",
    "        \n",
    "        #displaysurf.blit(gameoverImg, (int((dim-gameoverImg.get_width())/2),(int((dim-gameoverImg.get_height())/2)-50)))\n",
    "        #pygame.display.update()\n",
    "        score=0\n",
    "        if(attempt_flag):\n",
    "            attempt+=1\n",
    "            attempt_flag=False\n",
    "            pool.set_fitness(fitness)\n",
    "        \n",
    "        #### Automated Evolution ##########\n",
    "        emiliaSnake = Snake(int(dim/2),int(dim/2),emiliaImg)\n",
    "        emiliaSnake.createWalls(dim)\n",
    "        emiliaSnake.bodyImg=subaroImg\n",
    "        emiliaSnake.addBlock()\n",
    "        gameOverFlag=False\n",
    "        attempt_flag=True\n",
    "        subject=pool.get_subj()\n",
    "        t1=time.time()\n",
    "        session = tf.Session()\n",
    "        print(\"Session\",time.timte()-t1)\n",
    "        neural_net=CreateNeuralNet(subject[1])\n",
    "        print(\"Neural_net\",time.time()-t1)\n",
    "        gc.collect()\n",
    "        print(\"Garbage\",time.time()-t1)\n",
    "        Snake_time=time.time()\n",
    "        food_time=time.time()\n",
    "        \n",
    "    if(emiliaSnake.eaten(foood)):\n",
    "        \n",
    "        foood=newFood(foodImg,dim)\n",
    "        score+=1\n",
    "        hamb+=1\n",
    "        food_time=time.time()\n",
    "        emiliaSnake.addBlock()\n",
    "    \n",
    "    if(not gameOverFlag):\n",
    "        \n",
    "        renderSnake(displaysurf,emiliaSnake)\n",
    "        renderFood(displaysurf,foood)\n",
    "        pygame.display.update()\n",
    "        \n",
    "\n",
    "    \n",
    "\n",
    "            "
   ]
  },
  {
   "cell_type": "code",
   "execution_count": null,
   "metadata": {
    "collapsed": true
   },
   "outputs": [],
   "source": []
  }
 ],
 "metadata": {
  "kernelspec": {
   "display_name": "Python 3",
   "language": "python",
   "name": "python3"
  },
  "language_info": {
   "codemirror_mode": {
    "name": "ipython",
    "version": 3
   },
   "file_extension": ".py",
   "mimetype": "text/x-python",
   "name": "python",
   "nbconvert_exporter": "python",
   "pygments_lexer": "ipython3",
   "version": "3.6.0"
  }
 },
 "nbformat": 4,
 "nbformat_minor": 2
}
