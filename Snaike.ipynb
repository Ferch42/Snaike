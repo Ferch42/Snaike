{
 "cells": [
  {
   "cell_type": "code",
   "execution_count": 2,
   "metadata": {
    "collapsed": true
   },
   "outputs": [],
   "source": [
    "import pygame,sys\n",
    "from pygame.locals import *"
   ]
  },
  {
   "cell_type": "code",
   "execution_count": 3,
   "metadata": {
    "collapsed": true
   },
   "outputs": [],
   "source": [
    "#colors\n",
    "WHITE = (255, 255, 255)\n",
    "BLACK=(0,0,0)"
   ]
  },
  {
   "cell_type": "code",
   "execution_count": 4,
   "metadata": {
    "collapsed": true
   },
   "outputs": [],
   "source": [
    "def desloc(x,y,ori):\n",
    "    des=1\n",
    "    if(ori=='r'):\n",
    "        return (x+des,y)\n",
    "    elif(ori=='l'):\n",
    "        return (x-des,y)\n",
    "    elif(ori=='u'):\n",
    "        return (x,y-des)\n",
    "    elif (ori=='d'):\n",
    "        return (x,y+des)"
   ]
  },
  {
   "cell_type": "code",
   "execution_count": 5,
   "metadata": {
    "collapsed": true
   },
   "outputs": [],
   "source": [
    "#head\n",
    "class head(pygame.sprite.Sprite):\n",
    "    \n",
    "    def __init__(self,x,y,img):\n",
    "        \n",
    "        pygame.sprite.Sprite.__init__(self)\n",
    "        self.image=img\n",
    "        self.rect=self.image.get_rect()\n",
    "        self.rect.x=x\n",
    "        self.rect.y=y"
   ]
  },
  {
   "cell_type": "code",
   "execution_count": 6,
   "metadata": {
    "collapsed": true
   },
   "outputs": [],
   "source": [
    "#body\n",
    "class body(pygame.sprite.Sprite):\n",
    "    def __init__(self,x,y,ori,img):\n",
    "        \n",
    "        pygame.sprite.Sprite.__init__(self)\n",
    "        self.image=img\n",
    "        self.rect=self.image.get_rect()\n",
    "        self.rect.x=x\n",
    "        self.rect.y=y\n",
    "        self.orientation=ori\n",
    "        self.turns=[]\n",
    "    \n",
    "    def move(self):\n",
    "        \n",
    "        if(len(self.turns)==0):\n",
    "            self.rect.x,self.rect.y=desloc(self.rect.x,self.rect.y,self.orientation)\n",
    "            \n",
    "        else:\n",
    "            turnx,turny,turno= self.turns[0]\n",
    "            virtualx,virtualy=desloc(self.rect.x,self.rect.y,self.orientation)\n",
    "            \n",
    "            if(((self.orientation=='r' and virtualx>turnx) or (self.orientation=='l' and virtualx<turnx) \n",
    "               or (self.orientation=='u' and virtualy<turny) or (self.orientation=='d' and virtualy>turny))\n",
    "              and self.orientation!=turno):\n",
    "                \n",
    "                self.rect.x,self.rect.y=desloc(self.rect.x,self.rect.y,turno)\n",
    "                self.orientation=turno\n",
    "                self.turns.pop(0)\n",
    "                \n",
    "            else:\n",
    "                self.rect.x,self.rect.y=desloc(self.rect.x,self.rect.y,self.orientation)\n",
    "                "
   ]
  },
  {
   "cell_type": "code",
   "execution_count": 7,
   "metadata": {
    "collapsed": true
   },
   "outputs": [],
   "source": [
    "#Snake\n",
    "class Snake:\n",
    "    \n",
    "    def __init__(self,x,y,headIm,ori='r'):\n",
    "        \n",
    "        self.head=head(x,y,headIm)\n",
    "        self.blocks=[]\n",
    "        self.orientation=ori   \n",
    "        self.headImg=headIm\n",
    "        self.bodyImg=pygame.Surface((0,0))\n",
    "        \n",
    "    def move(self,ori):\n",
    "        \n",
    "        if(ori!=self.orientation):\n",
    "            #turn happened\n",
    "            turn=(self.head.rect.x,self.head.rect.y,ori)\n",
    "            for block in self.blocks:\n",
    "                block.turns.append(turn)\n",
    "            self.orientation=ori\n",
    "   \n",
    "        self.head.rect.x,self.head.rect.y=desloc(self.head.rect.x,self.head.rect.y,ori)\n",
    "        \n",
    "        for b in self.blocks:\n",
    "            b.move()\n",
    "\n",
    "    def isAlive(self):\n",
    "        \n",
    "        head_rect=self.head.rect\n",
    "        \n",
    "        for bloc in self.blocks:\n",
    "                "
   ]
  },
  {
   "cell_type": "code",
   "execution_count": 8,
   "metadata": {
    "collapsed": true
   },
   "outputs": [],
   "source": [
    "def calcVirtualPosition(lastx,lasty,ori,i,headImg,bodyImg):\n",
    "    \n",
    "    orientation=ori\n",
    "    virtualx,virtualy=0,0\n",
    "    \n",
    "    if(orientation=='r'):\n",
    "        virtualx, virtualy = (lastx-10-bodyImg.get_width()),lasty\n",
    "            \n",
    "    elif(orientation=='l'):\n",
    "        if(i!=0):\n",
    "            virtualx,virtualy = (lastx+bodyImg.get_width()+10),lasty\n",
    "        else:\n",
    "            virtualx,virtualy = (lastx+headImg.get_width()+10),lasty\n",
    "        \n",
    "    elif(orientation=='u'):\n",
    "        virtualx,virtualy= lastx, (lasty-10 - bodyImg.get_height())\n",
    "        \n",
    "    elif(orientation=='d'):\n",
    "        if(i!=0):\n",
    "            virtualx,virtualy = lastx,(lasty +10+ bodyImg.get_height())\n",
    "        else:\n",
    "            virtualx,virtualy = lastx,(lasty +10+ headImg.get_height())\n",
    "    \n",
    "    return (virtualx,virtualy)"
   ]
  },
  {
   "cell_type": "code",
   "execution_count": 9,
   "metadata": {
    "collapsed": true
   },
   "outputs": [],
   "source": [
    "def renderSnake(display,snake):\n",
    "    \n",
    "    headImg=snake.headImg\n",
    "    bodyImg=snake.bodyImg\n",
    "    \n",
    "    #add head\n",
    "    display.blit(headImg,snake.head.rect)\n",
    "    \n",
    "    #add body\n",
    "    for body in snake.blocks:\n",
    "        display.blit(bodyImg,body.rect)\n",
    "      \n",
    "    pygame.display.update()\n",
    "        \n",
    "        "
   ]
  },
  {
   "cell_type": "code",
   "execution_count": null,
   "metadata": {},
   "outputs": [],
   "source": [
    "#init\n",
    "pygame.init()\n",
    "dim=600\n",
    "displaysurf=pygame.display.set_mode((dim,dim))\n",
    "pygame.display.set_caption('Snaike')\n",
    "fpsClock = pygame.time.Clock()\n",
    "FPS = 30\n",
    "\n",
    "#SnakeGroup\n",
    "snakeGroup=pygame.sprite.Group()\n",
    "\n",
    "#emilia variables\n",
    "emiliaImg = pygame.image.load('blue.png')\n",
    "emiliaSnake = Snake(int(dim/2),int(dim/2),emiliaImg)\n",
    "\n",
    "#subaro\n",
    "subaroImg=pygame.image.load('blue.png')\n",
    "emiliaSnake.bodyImg=subaroImg\n",
    "\n",
    "spacing=int(0.70*emiliaSnake.bodyImg.get_width())\n",
    "t=spacing+subaroImg.get_width()\n",
    "for i in range(10):\n",
    "    b3=body((emiliaSnake.head.rect.x-(t*i)),emiliaSnake.head.rect.y,emiliaSnake.orientation,subaroImg)\n",
    "    emiliaSnake.blocks.append(b3)\n",
    "    snakeGroup.add(b3)\n",
    "orientation='r'\n",
    "\n",
    "#game loop\n",
    "while True:   \n",
    "    displaysurf.fill(WHITE)\n",
    "    \n",
    "    for event in pygame.event.get():\n",
    "        if event.type== QUIT:\n",
    "            pygame.quit()\n",
    "            sys.exit()\n",
    "        elif event.type==KEYDOWN:\n",
    "            if event.key==K_UP and orientation!='d':\n",
    "                orientation='u'\n",
    "            elif event.key==K_DOWN and orientation!='u':\n",
    "                orientation='d'\n",
    "            elif event.key==K_RIGHT and orientation!='l':\n",
    "                orientation='r'\n",
    "            elif event.key==K_LEFT and orientation!='r':\n",
    "                orientation='l'\n",
    "    \n",
    "    #emilia motion\n",
    "    emiliaSnake.move(orientation)\n",
    "    \n",
    "    \n",
    "        \n",
    "    renderSnake(displaysurf,emiliaSnake)\n",
    "    fpsClock.tick(FPS)\n",
    "\n",
    "            "
   ]
  }
 ],
 "metadata": {
  "kernelspec": {
   "display_name": "Python 3",
   "language": "python",
   "name": "python3"
  }
 },
 "nbformat": 4,
 "nbformat_minor": 2
}
