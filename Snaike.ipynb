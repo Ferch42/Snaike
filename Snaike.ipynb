{
 "cells": [
  {
   "cell_type": "markdown",
   "metadata": {},
   "source": [
    "# Snaike game with neural nets"
   ]
  },
  {
   "cell_type": "markdown",
   "metadata": {},
   "source": [
    "## Importing modules"
   ]
  },
  {
   "cell_type": "code",
   "execution_count": 1,
   "metadata": {},
   "outputs": [
    {
     "name": "stdout",
     "output_type": "stream",
     "text": [
      "curses is not supported on this machine (please install/reinstall curses for an optimal experience)\n"
     ]
    }
   ],
   "source": [
    "import pygame,sys\n",
    "from pygame.locals import *\n",
    "from random import randint\n",
    "import math\n",
    "import numpy as np\n",
    "import pickle\n",
    "from sklearn.preprocessing import StandardScaler\n",
    "from sklearn.neural_network import MLPClassifier\n",
    "from sklearn.model_selection import train_test_split\n",
    "from sklearn.metrics import classification_report\n",
    "from sklearn import linear_model\n",
    "from sklearn.neighbors import KNeighborsClassifier\n",
    "from sklearn.naive_bayes import MultinomialNB\n",
    "import tflearn\n",
    "import tensorflow as tf\n",
    "from imblearn.over_sampling import SMOTE\n",
    "import time\n",
    "import matplotlib.pyplot as plt"
   ]
  },
  {
   "cell_type": "code",
   "execution_count": 2,
   "metadata": {
    "collapsed": true
   },
   "outputs": [],
   "source": [
    "#colors\n",
    "WHITE = (255, 255, 255)\n",
    "BLACK=(0,0,0)"
   ]
  },
  {
   "cell_type": "code",
   "execution_count": 3,
   "metadata": {
    "collapsed": true
   },
   "outputs": [],
   "source": [
    "def desloc(x,y,ori):\n",
    "    des=1\n",
    "    if(ori=='r'):\n",
    "        return (x+des,y)\n",
    "    elif(ori=='l'):\n",
    "        return (x-des,y)\n",
    "    elif(ori=='u'):\n",
    "        return (x,y-des)\n",
    "    elif (ori=='d'):\n",
    "        return (x,y+des)"
   ]
  },
  {
   "cell_type": "code",
   "execution_count": 4,
   "metadata": {
    "collapsed": true
   },
   "outputs": [],
   "source": [
    "def oriNumb(ori):\n",
    "    \n",
    "    if(ori=='r'):\n",
    "        return 0\n",
    "    elif(ori=='d'):\n",
    "        return 1\n",
    "    elif(ori=='l'):\n",
    "        return 2\n",
    "    elif(ori=='u'):\n",
    "        return 3\n",
    "\n",
    "def numbOri(numb):\n",
    "    \n",
    "    if(numb==0):\n",
    "        return 'r'\n",
    "    elif(numb==1):\n",
    "        return 'd'\n",
    "    elif(numb==2):\n",
    "        return 'l'\n",
    "    elif(numb==3):\n",
    "        return 'u'    "
   ]
  },
  {
   "cell_type": "code",
   "execution_count": 5,
   "metadata": {
    "collapsed": true
   },
   "outputs": [],
   "source": [
    "class food(pygame.sprite.Sprite):\n",
    "    \n",
    "    def __init__(self,x,y,img):\n",
    "        \n",
    "        pygame.sprite.Sprite.__init__(self)\n",
    "        self.image=img\n",
    "        self.rect=self.image.get_rect()\n",
    "        self.rect.x=x\n",
    "        self.rect.y=y"
   ]
  },
  {
   "cell_type": "code",
   "execution_count": 6,
   "metadata": {
    "collapsed": true
   },
   "outputs": [],
   "source": [
    "#head\n",
    "class head(pygame.sprite.Sprite):\n",
    "    \n",
    "    def __init__(self,x,y,img):\n",
    "        \n",
    "        pygame.sprite.Sprite.__init__(self)\n",
    "        self.image=img\n",
    "        self.rect=pygame.rect.Rect(x,y,int(img.get_width()*0.75),int(img.get_height()+0.75))\n",
    "        self.orientation=''\n",
    "        self.turns=[]\n",
    "    \n",
    "    def get_render_rect(self):\n",
    "        \n",
    "        return ((self.rect.x-int(self.image.get_width()*0.25)),(self.rect.y-int(self.image.get_height()*0.25)))"
   ]
  },
  {
   "cell_type": "code",
   "execution_count": 7,
   "metadata": {
    "collapsed": true
   },
   "outputs": [],
   "source": [
    "#body\n",
    "class body(pygame.sprite.Sprite):\n",
    "    def __init__(self,x,y,ori,img):\n",
    "        \n",
    "        pygame.sprite.Sprite.__init__(self)\n",
    "        self.image=img\n",
    "        self.rect=pygame.rect.Rect(x,y,int(img.get_width()*0.75),int(img.get_height()*0.75))\n",
    "        self.orientation=ori\n",
    "        self.turns=[]\n",
    "    \n",
    "    def move(self):\n",
    "        \n",
    "        if(len(self.turns)==0):\n",
    "            self.rect.x,self.rect.y=desloc(self.rect.x,self.rect.y,self.orientation)\n",
    "            \n",
    "        else:\n",
    "            turnx,turny,turno= self.turns[0]\n",
    "            virtualx,virtualy=desloc(self.rect.x,self.rect.y,self.orientation)\n",
    "            \n",
    "            if(((self.orientation=='r' and virtualx>turnx) or (self.orientation=='l' and virtualx<turnx) \n",
    "               or (self.orientation=='u' and virtualy<turny) or (self.orientation=='d' and virtualy>turny))\n",
    "              and self.orientation!=turno):\n",
    "                \n",
    "                self.rect.x,self.rect.y=desloc(self.rect.x,self.rect.y,turno)\n",
    "                self.orientation=turno\n",
    "                self.turns.pop(0)\n",
    "                \n",
    "            else:\n",
    "                self.rect.x,self.rect.y=desloc(self.rect.x,self.rect.y,self.orientation)\n",
    "\n",
    "    def get_render_rect(self):\n",
    "        \n",
    "        return ((self.rect.x-int(self.image.get_width()*0.25)),(self.rect.y-int(self.image.get_height()*0.25)))\n",
    "                "
   ]
  },
  {
   "cell_type": "code",
   "execution_count": 8,
   "metadata": {
    "collapsed": true
   },
   "outputs": [],
   "source": [
    "#Snake\n",
    "class Snake:\n",
    "    \n",
    "    def __init__(self,x,y,headIm,ori='r'):\n",
    "        \n",
    "        self.head=head(x,y,headIm)\n",
    "        self.head.orientation=ori\n",
    "        self.blocks=[]\n",
    "        self.orientation=ori   \n",
    "        self.headImg=headIm\n",
    "        self.bodyImg=pygame.Surface((0,0))\n",
    "        self.walls=[]\n",
    "        \n",
    "    def move(self,ori):\n",
    "        \n",
    "        if(ori!=self.orientation):\n",
    "            #turn happened\n",
    "            turn=(self.head.rect.x,self.head.rect.y,ori)\n",
    "            for block in self.blocks:\n",
    "                block.turns.append(turn)\n",
    "            self.orientation=ori\n",
    "            self.head.orientation=ori\n",
    "   \n",
    "        self.head.rect.x,self.head.rect.y=desloc(self.head.rect.x,self.head.rect.y,ori)\n",
    "        \n",
    "        for b in self.blocks:\n",
    "            b.move()\n",
    "\n",
    "    def createWalls(self,dim):\n",
    "        \n",
    "        r1=pygame.rect.Rect(0,-1,dim,1)\n",
    "        r2=pygame.rect.Rect(-1,0,1,dim)\n",
    "        r3=pygame.rect.Rect(dim,0,1,dim)\n",
    "        r4=pygame.rect.Rect(0,dim,dim,1)\n",
    "        self.walls.append(r1)\n",
    "        self.walls.append(r2)\n",
    "        self.walls.append(r3)\n",
    "        self.walls.append(r4)\n",
    "    \n",
    "    def isAlive(self):\n",
    "        \n",
    "        head_rect=self.head.rect\n",
    "        \n",
    "        for bloc in self.blocks:\n",
    "            if(head_rect.colliderect(bloc.rect)):\n",
    "                return False\n",
    "        \n",
    "        for wall in self.walls:\n",
    "            if(head_rect.colliderect(wall)):\n",
    "                return False\n",
    "        return True\n",
    "    \n",
    "    def calcBodyPosition(self,bloc):\n",
    "        \n",
    "        ori=bloc.orientation\n",
    "        \n",
    "        #values\n",
    "        spacing=int(0.70*bloc.image.get_width())\n",
    "        dist=spacing+bloc.image.get_width()\n",
    "        \n",
    "        #virtual values\n",
    "        virtualx,virtualy=0,0\n",
    "        \n",
    "        if(ori=='r'):\n",
    "            virtualx,virtualy=(bloc.rect.x-dist),(bloc.rect.y)\n",
    "\n",
    "        elif(ori=='l'):\n",
    "            virtualx,virtualy=(bloc.rect.x+dist),(bloc.rect.y)\n",
    "\n",
    "        elif(ori=='u'):\n",
    "            virtualx,virtualy=(bloc.rect.x),(bloc.rect.y+dist)\n",
    "\n",
    "        elif(ori=='d'):\n",
    "            virtualx,virtualy=(bloc.rect.x),(bloc.rect.y-dist)\n",
    "        \n",
    "        return (virtualx,virtualy)\n",
    "    \n",
    "    def addBlock(self):\n",
    "        \n",
    "        lastbloc=self.head\n",
    "        \n",
    "        if(len(self.blocks)>0):\n",
    "            lastbloc=self.blocks[-1]\n",
    "        bx,by=self.calcBodyPosition(lastbloc)\n",
    "        nbody= body(bx,by,lastbloc.orientation,lastbloc.image)\n",
    "        nbody.turns=list(lastbloc.turns)\n",
    "        self.blocks.append(nbody)\n",
    "        \n",
    "    def eaten(self,food):\n",
    "        \n",
    "        if(self.head.rect.colliderect(food.rect)):\n",
    "            return True\n",
    "        return False\n",
    "    \n",
    "    \n",
    "    def obstDist(self,ori):\n",
    "        \n",
    "        dx,dy=0,0\n",
    "        if(ori==0):\n",
    "            dx=1\n",
    "        elif(ori==2):\n",
    "            dx=-1\n",
    "        elif(ori==3):\n",
    "            dy=-1\n",
    "        elif(ori==1):\n",
    "            dy=1\n",
    "        \n",
    "        virtualx,virtualy=int(self.head.rect.x+(self.head.image.get_width()*0.5)),int(self.head.rect.y+(self.head.image.get_height()*0.5))\n",
    "        flag=True\n",
    "        while(flag):\n",
    "            virtualx+=dx\n",
    "            virtualy+=dy\n",
    "            for bloc in self.blocks:\n",
    "                bx,by=bloc.get_render_rect()\n",
    "                sp=int(bloc.image.get_width()*0.7)\n",
    "                nrect=pygame.rect.Rect(bx,by,(bloc.image.get_width()+sp),(bloc.image.get_height()+sp))\n",
    "                if(nrect.collidepoint(virtualx,virtualy)):\n",
    "                    flag=False\n",
    "                    break\n",
    "            \n",
    "            if(flag):    \n",
    "                for wall in self.walls:\n",
    "                    if(wall.collidepoint(virtualx,virtualy)):\n",
    "                        flag=False\n",
    "                        break\n",
    "        if(ori==0 or ori==2):\n",
    "            return abs((self.head.rect.x-virtualx))\n",
    "        elif(ori==1 or ori==3):\n",
    "            return abs((self.head.rect.y-virtualy))\n",
    "\n",
    "    \n",
    "    def getAtr(self):\n",
    "        \n",
    "        nori=oriNumb(self.orientation)\n",
    "        return [self.obstDist((nori+3)%4),self.obstDist(nori),self.obstDist((nori+1)%4)]\n",
    "    \n",
    "    def normalizeData(self,features):\n",
    "        \n",
    "        f=[]\n",
    "        for fi in features:\n",
    "            f.append([int(fi[0]/self.head.image.get_width()),int(fi[1]/self.head.image.get_width()),\n",
    "                     int(fi[2]/self.head.image.get_width()), int(fi[3]),int(fi[4]),fi[5]])\n",
    "        return f"
   ]
  },
  {
   "cell_type": "code",
   "execution_count": 9,
   "metadata": {
    "collapsed": true
   },
   "outputs": [],
   "source": [
    "def renderSnake(display,snake):\n",
    "    \n",
    "    headImg=snake.headImg\n",
    "    bodyImg=snake.bodyImg\n",
    "    \n",
    "    #add head\n",
    "    display.blit(headImg,snake.head.get_render_rect())\n",
    "    \n",
    "    #add body\n",
    "    for body in snake.blocks:\n",
    "        display.blit(bodyImg,body.get_render_rect()) \n",
    "        "
   ]
  },
  {
   "cell_type": "code",
   "execution_count": 10,
   "metadata": {
    "collapsed": true
   },
   "outputs": [],
   "source": [
    "def renderFood(display,food):\n",
    "    \n",
    "    display.blit(food.image,food.rect)"
   ]
  },
  {
   "cell_type": "code",
   "execution_count": 11,
   "metadata": {
    "collapsed": true
   },
   "outputs": [],
   "source": [
    "def newFood(foodImg,dim):\n",
    "    \n",
    "    fos=5\n",
    "    return food(randint(fos,(dim-foodImg.get_width()-fos)),randint(fos,(dim-foodImg.get_height()-fos)),foodImg)"
   ]
  },
  {
   "cell_type": "code",
   "execution_count": 12,
   "metadata": {
    "collapsed": true
   },
   "outputs": [],
   "source": [
    "def foodPos(snake,food):\n",
    "    \n",
    "    hip=math.sqrt((snake.head.rect.x-food.rect.x)**2+(snake.head.rect.y-food.rect.y)**2)\n",
    "    cat=0\n",
    "    if(snake.orientation=='r'):\n",
    "        cat=food.rect.x-snake.head.rect.x\n",
    "        if(food.rect.y>=snake.head.rect.y):\n",
    "            return (360-math.degrees(np.arccos(cat/hip))),hip\n",
    "        else:\n",
    "            return math.degrees(np.arccos(cat/hip)),hip\n",
    "\n",
    "    elif(snake.orientation=='l'):\n",
    "        cat=snake.head.rect.x-food.rect.x\n",
    "        if(food.rect.y<=snake.head.rect.y):\n",
    "            return (360-math.degrees(np.arccos(cat/hip))),hip\n",
    "        else:\n",
    "            return math.degrees(np.arccos(cat/hip)),hip\n",
    "    \n",
    "    elif(snake.orientation=='u'):\n",
    "        cat=snake.head.rect.y-food.rect.y\n",
    "        if(food.rect.x<=snake.head.rect.x):\n",
    "            return (360-math.degrees(np.arccos(cat/hip))),hip\n",
    "        else:\n",
    "            return math.degrees(np.arccos(cat/hip)),hip\n",
    "    \n",
    "    elif(snake.orientation=='d'):\n",
    "        cat=food.rect.y-snake.head.rect.y\n",
    "        if(food.rect.x>=snake.head.rect.x):\n",
    "            return (360-math.degrees(np.arccos(cat/hip))),hip\n",
    "        else:\n",
    "            return math.degrees(np.arccos(cat/hip)),hip\n",
    "     "
   ]
  },
  {
   "cell_type": "code",
   "execution_count": 13,
   "metadata": {},
   "outputs": [
    {
     "data": {
      "text/plain": [
       "'\\n#reset files\\n\\npickle.dump( [], open( \"features.fer\", \"wb\" ) )    \\npickle.dump( [], open( \"tags.fer\", \"wb\" ) )\\n'"
      ]
     },
     "execution_count": 13,
     "metadata": {},
     "output_type": "execute_result"
    }
   ],
   "source": [
    "'''\n",
    "#reset files\n",
    "\n",
    "pickle.dump( [], open( \"features.fer\", \"wb\" ) )    \n",
    "pickle.dump( [], open( \"tags.fer\", \"wb\" ) )\n",
    "'''"
   ]
  },
  {
   "cell_type": "code",
   "execution_count": 14,
   "metadata": {
    "collapsed": true
   },
   "outputs": [],
   "source": [
    "def calcTag(lastori,ori):\n",
    "    \n",
    "    resp=oriNumb(ori)-oriNumb(lastori)\n",
    "    if((lastori=='u' and ori=='r')):\n",
    "        resp=1\n",
    "    elif((lastori=='r' and ori=='u')):\n",
    "        resp=-1\n",
    "    return resp"
   ]
  },
  {
   "cell_type": "code",
   "execution_count": 15,
   "metadata": {
    "collapsed": true
   },
   "outputs": [],
   "source": [
    "def Create_Classifier(name):\n",
    "\tif(name=='LogReg'):\n",
    "\t\treturn linear_model.LogisticRegression(n_jobs=1, C=1e5)\n",
    "\telif(name=='KNN'):\n",
    "\t\treturn KNeighborsClassifier(n_neighbors=3, n_jobs=1, algorithm='brute', metric='cosine')\n",
    "\telif(name=='NB'):\n",
    "\t\treturn MultinomialNB(alpha=0.01)\n",
    "\telif(name=='MLPerceptron'):\n",
    "\t\treturn MLPClassifier()\n",
    "\telse:\n",
    "\t\traise NameError('Classifier Unavailable')"
   ]
  },
  {
   "cell_type": "code",
   "execution_count": 16,
   "metadata": {
    "collapsed": true
   },
   "outputs": [],
   "source": [
    "#Tensor Flow \n",
    "\n",
    "def fully_connected_layer(input, n_inp, n_out, relu=True):\n",
    "    \n",
    "    w=tf.Variable(tf.truncated_normal([n_inp,n_out], stddev=0.05))\n",
    "    b=tf.Variable(tf.constant(0.05,shape=[n_out]))\n",
    "    \n",
    "    layer=tf.matmul(input,w)+b\n",
    "    \n",
    "    if(relu):\n",
    "        layer=tf.nn.relu(layer)\n",
    "    return layer"
   ]
  },
  {
   "cell_type": "code",
   "execution_count": 17,
   "metadata": {
    "collapsed": true
   },
   "outputs": [],
   "source": [
    "class SampleGenerator:\n",
    "    \n",
    "    def __init__(self,features,tags):\n",
    "        \n",
    "        self.ex_indices=[]\n",
    "        self.feat=features\n",
    "        self.tags=tags\n",
    "    \n",
    "    def getBatch(self,batch_size):\n",
    "        \n",
    "        count=0\n",
    "        f=[]\n",
    "        t=[]\n",
    "        while(count<batch_size):\n",
    "            \n",
    "            if(len(self.ex_indices)==len(self.tags)):\n",
    "                self.ex_indices=[]\n",
    "            \n",
    "            i=randint(0,len(self.tags)-1)\n",
    "            if(i not in self.ex_indices):\n",
    "                self.ex_indices.append(i)\n",
    "                f.append(self.feat[i])\n",
    "                t.append(self.tags[i])\n",
    "                count+=1\n",
    "        \n",
    "        t=np.array(t)\n",
    "        zer= np.zeros((batch_size,3))\n",
    "        \n",
    "        for i in range(len(t)):\n",
    "            aux=t[i]\n",
    "            zer[i][aux]=1\n",
    "            \n",
    "        f=np.array(f)\n",
    "        return f, zer"
   ]
  },
  {
   "cell_type": "code",
   "execution_count": 18,
   "metadata": {},
   "outputs": [
    {
     "name": "stdout",
     "output_type": "stream",
     "text": [
      "Initializing game\n"
     ]
    }
   ],
   "source": [
    "#init\n",
    "print(\"Initializing game\")\n",
    "pygame.init()\n",
    "dim=300\n",
    "displaysurf=pygame.display.set_mode((dim,dim))\n",
    "pygame.display.set_caption('Snaike')\n",
    "fpsClock = pygame.time.Clock()\n",
    "FPS = 60\n",
    "framecount=0\n",
    "\n",
    "\n",
    "#emilia variables\n",
    "emiliaImg = pygame.image.load('blue.png')\n",
    "emiliaSnake = Snake(int(dim/2)+100,int(dim/2)+100,emiliaImg,ori='u')\n",
    "emiliaSnake.createWalls(dim)\n",
    "\n",
    "#subaro\n",
    "subaroImg=pygame.image.load('blue.png')\n",
    "emiliaSnake.bodyImg=subaroImg\n",
    "\n",
    "#game over\n",
    "gameoverImg=pygame.image.load('gameover.jpg')\n",
    "\n",
    "#food\n",
    "foodImg=pygame.image.load('hamb.png')\n",
    "foood=newFood(foodImg,dim)\n",
    "\n",
    "#orientation\n",
    "lastorientation=emiliaSnake.orientation\n",
    "orientation=emiliaSnake.orientation\n",
    "gameOverFlag=False\n",
    "\n"
   ]
  },
  {
   "cell_type": "code",
   "execution_count": 27,
   "metadata": {},
   "outputs": [
    {
     "name": "stdout",
     "output_type": "stream",
     "text": [
      "Opening config files\n",
      "Features:  310\n"
     ]
    },
    {
     "ename": "IndexError",
     "evalue": "list index out of range",
     "output_type": "error",
     "traceback": [
      "\u001b[1;31m---------------------------------------------------------------------------\u001b[0m",
      "\u001b[1;31mIndexError\u001b[0m                                Traceback (most recent call last)",
      "\u001b[1;32m<ipython-input-27-5057a022bd65>\u001b[0m in \u001b[0;36m<module>\u001b[1;34m()\u001b[0m\n\u001b[0;32m      6\u001b[0m \u001b[0mprint\u001b[0m\u001b[1;33m(\u001b[0m\u001b[1;34m\"Features: \"\u001b[0m\u001b[1;33m,\u001b[0m \u001b[0mlen\u001b[0m\u001b[1;33m(\u001b[0m\u001b[0mfeatures\u001b[0m\u001b[1;33m)\u001b[0m\u001b[1;33m)\u001b[0m\u001b[1;33m\u001b[0m\u001b[0m\n\u001b[0;32m      7\u001b[0m \u001b[1;33m\u001b[0m\u001b[0m\n\u001b[1;32m----> 8\u001b[1;33m \u001b[0mfeatures\u001b[0m\u001b[1;33m=\u001b[0m\u001b[0memiliaSnake\u001b[0m\u001b[1;33m.\u001b[0m\u001b[0mnormalizeData\u001b[0m\u001b[1;33m(\u001b[0m\u001b[0mfeatures\u001b[0m\u001b[1;33m)\u001b[0m\u001b[1;33m\u001b[0m\u001b[0m\n\u001b[0m\u001b[0;32m      9\u001b[0m \u001b[0mfeatures\u001b[0m\u001b[1;33m=\u001b[0m\u001b[1;33m[\u001b[0m\u001b[1;33m[\u001b[0m\u001b[0mx\u001b[0m\u001b[1;33m[\u001b[0m\u001b[1;36m0\u001b[0m\u001b[1;33m]\u001b[0m\u001b[1;33m,\u001b[0m\u001b[0mx\u001b[0m\u001b[1;33m[\u001b[0m\u001b[1;36m1\u001b[0m\u001b[1;33m]\u001b[0m\u001b[1;33m,\u001b[0m\u001b[0mx\u001b[0m\u001b[1;33m[\u001b[0m\u001b[1;36m2\u001b[0m\u001b[1;33m]\u001b[0m\u001b[1;33m,\u001b[0m\u001b[0mx\u001b[0m\u001b[1;33m[\u001b[0m\u001b[1;36m3\u001b[0m\u001b[1;33m]\u001b[0m\u001b[1;33m]\u001b[0m \u001b[1;32mfor\u001b[0m \u001b[0mx\u001b[0m \u001b[1;32min\u001b[0m \u001b[0mfeatures\u001b[0m\u001b[1;33m]\u001b[0m\u001b[1;33m\u001b[0m\u001b[0m\n\u001b[0;32m     10\u001b[0m \u001b[0mtags\u001b[0m\u001b[1;33m=\u001b[0m\u001b[1;33m[\u001b[0m\u001b[0mx\u001b[0m\u001b[1;33m+\u001b[0m\u001b[1;36m1\u001b[0m \u001b[1;32mfor\u001b[0m \u001b[0mx\u001b[0m \u001b[1;32min\u001b[0m \u001b[0mtags\u001b[0m\u001b[1;33m]\u001b[0m\u001b[1;33m\u001b[0m\u001b[0m\n",
      "\u001b[1;32m<ipython-input-8-4f9e05d44163>\u001b[0m in \u001b[0;36mnormalizeData\u001b[1;34m(self, features)\u001b[0m\n\u001b[0;32m    140\u001b[0m         \u001b[1;32mfor\u001b[0m \u001b[0mfi\u001b[0m \u001b[1;32min\u001b[0m \u001b[0mfeatures\u001b[0m\u001b[1;33m:\u001b[0m\u001b[1;33m\u001b[0m\u001b[0m\n\u001b[0;32m    141\u001b[0m             f.append([int(fi[0]/self.head.image.get_width()),int(fi[1]/self.head.image.get_width()),\n\u001b[1;32m--> 142\u001b[1;33m                      int(fi[2]/self.head.image.get_width()), int(fi[3]),int(fi[4]),fi[5]])\n\u001b[0m\u001b[0;32m    143\u001b[0m         \u001b[1;32mreturn\u001b[0m \u001b[0mf\u001b[0m\u001b[1;33m\u001b[0m\u001b[0m\n",
      "\u001b[1;31mIndexError\u001b[0m: list index out of range"
     ]
    }
   ],
   "source": [
    "#Neural net\n",
    "print(\"Opening config files\")\n",
    "#training features and tags\n",
    "features=pickle.load( open( \"features.fer\", \"rb\" ) )\n",
    "tags=pickle.load( open(\"tags.fer\",\"rb\"))\n",
    "print(\"Features: \", len(features))\n",
    "\n",
    "features=emiliaSnake.normalizeData(features)\n",
    "features=[[x[0],x[1],x[2],x[3]] for x in features]\n",
    "tags=[x+1 for x in tags]\n",
    "print(\"Test-split\")\n",
    "#Training and test features\n",
    "X_train, X_test, y_train, y_test = train_test_split( features, tags, test_size=0.10, random_state=42)\n",
    "diist=[x[3] for x in features]\n",
    "#plt.plot(features, tags,'ro')\n",
    "#plt.show()\n",
    "\n",
    "print(\"Smoting\")\n",
    "#Smote\n",
    "sm = SMOTE(random_state=42)\n",
    "X_train,y_train=sm.fit_sample(X_train,y_train)\n",
    "print(\"Features: \", len(X_train))\n",
    "'''\n",
    "print(\"Training model ...\")\n",
    "featz=len(features[0])\n",
    "outz=3\n",
    "l1_neurons=30\n",
    "\n",
    "#Neural net config\n",
    "x=tf.placeholder(tf.float32,shape=[None,featz], name='x')\n",
    "l1=fully_connected_layer(x,featz,l1_neurons)\n",
    "l2=fully_connected_layer(l1,l1_neurons,outz,relu=False)\n",
    "softmax=tf.nn.softmax(l2)\n",
    "y_pred_cls=tf.argmax(softmax,axis=1)\n",
    "y_true = tf.placeholder(tf.float32, shape=[None, 3], name='y_true')\n",
    "cross_entropy = tf.nn.softmax_cross_entropy_with_logits(logits=l2,labels=y_true)\n",
    "cost = tf.reduce_mean(cross_entropy)\n",
    "optimizer = tf.train.AdamOptimizer(learning_rate=1e-4).minimize(cost)\n",
    "\n",
    "#Accuracy measures\n",
    "y_true_cls = tf.argmax(y_true, axis=1)\n",
    "correct_prediction = tf.equal(y_pred_cls, y_true_cls)\n",
    "accuracy = tf.reduce_mean(tf.cast(correct_prediction, tf.float32))\n",
    "'''"
   ]
  },
  {
   "cell_type": "code",
   "execution_count": 20,
   "metadata": {
    "collapsed": true
   },
   "outputs": [],
   "source": [
    "#Session\n",
    "session = tf.Session()\n",
    "session.run(tf.global_variables_initializer())"
   ]
  },
  {
   "cell_type": "code",
   "execution_count": 21,
   "metadata": {},
   "outputs": [
    {
     "data": {
      "text/plain": [
       "'\\n#Optimization function\\nsampleGenerator=SampleGenerator(X_train,y_train)\\nbatch_size=64\\n\\ndef optimize(num_iterations):\\n    \\n    for i in range(num_iterations):\\n        \\n        f,t=sampleGenerator.getBatch(batch_size)\\n        feed_dict_train={ x:f, y_true:t}\\n        session.run(optimizer, feed_dict=feed_dict_train)\\n        \\n        if i % 100 == 0:\\n            # Calculate the accuracy on the training-set.\\n            acc = session.run(accuracy, feed_dict=feed_dict_train)\\n\\n            # Message for printing.\\n            msg = \"Optimization Iteration: {0:>6}, Training Accuracy: {1:>6.1%}\"\\n\\n            # Print it.\\n            print(msg.format(i + 1, acc))\\n            if(acc>=0.80):\\n                break\\n'"
      ]
     },
     "execution_count": 21,
     "metadata": {},
     "output_type": "execute_result"
    }
   ],
   "source": [
    "'''\n",
    "#Optimization function\n",
    "sampleGenerator=SampleGenerator(X_train,y_train)\n",
    "batch_size=64\n",
    "\n",
    "def optimize(num_iterations):\n",
    "    \n",
    "    for i in range(num_iterations):\n",
    "        \n",
    "        f,t=sampleGenerator.getBatch(batch_size)\n",
    "        feed_dict_train={ x:f, y_true:t}\n",
    "        session.run(optimizer, feed_dict=feed_dict_train)\n",
    "        \n",
    "        if i % 100 == 0:\n",
    "            # Calculate the accuracy on the training-set.\n",
    "            acc = session.run(accuracy, feed_dict=feed_dict_train)\n",
    "\n",
    "            # Message for printing.\n",
    "            msg = \"Optimization Iteration: {0:>6}, Training Accuracy: {1:>6.1%}\"\n",
    "\n",
    "            # Print it.\n",
    "            print(msg.format(i + 1, acc))\n",
    "            if(acc>=0.80):\n",
    "                break\n",
    "'''"
   ]
  },
  {
   "cell_type": "code",
   "execution_count": 22,
   "metadata": {},
   "outputs": [
    {
     "data": {
      "text/plain": [
       "'\\n#Running the graph\\noptimize(7500)\\n'"
      ]
     },
     "execution_count": 22,
     "metadata": {},
     "output_type": "execute_result"
    }
   ],
   "source": [
    "'''\n",
    "#Running the graph\n",
    "optimize(7500)\n",
    "'''"
   ]
  },
  {
   "cell_type": "code",
   "execution_count": 23,
   "metadata": {},
   "outputs": [
    {
     "data": {
      "text/plain": [
       "'\\npred_dict={x:X_test}\\npredictions=session.run(y_pred_cls,feed_dict=pred_dict)\\n\\nprint(classification_report(y_test,predictions))\\n'"
      ]
     },
     "execution_count": 23,
     "metadata": {},
     "output_type": "execute_result"
    }
   ],
   "source": [
    "'''\n",
    "pred_dict={x:X_test}\n",
    "predictions=session.run(y_pred_cls,feed_dict=pred_dict)\n",
    "\n",
    "print(classification_report(y_test,predictions))\n",
    "'''"
   ]
  },
  {
   "cell_type": "code",
   "execution_count": 24,
   "metadata": {},
   "outputs": [],
   "source": [
    "#AI move\n",
    "def aiMove(emiliaSnake,foood,orientation,framecount):\n",
    "        \n",
    "    if(framecount==0):\n",
    "        atr1,atr2,atr3=emiliaSnake.getAtr()\n",
    "        ang,hip= foodPos(emiliaSnake,foood)\n",
    "            \n",
    "        run_dict={x:[[atr1,atr2,atr3,ang]]}\n",
    "        mv=session.run(y_pred_cls,feed_dict=run_dict)-1\n",
    "        print(mv)\n",
    "        if(orientation=='u' and mv==1):\n",
    "            orientation='r'\n",
    "        elif(orientation=='r' and mv==-1):\n",
    "            orientation='u'\n",
    "        else:\n",
    "            orientation=numbOri(mv+oriNumb(orientation))\n",
    "        print(orientation)\n",
    "    \n",
    "    return orientation"
   ]
  },
  {
   "cell_type": "code",
   "execution_count": 25,
   "metadata": {
    "scrolled": false
   },
   "outputs": [
    {
     "name": "stdout",
     "output_type": "stream",
     "text": [
      "game starts\n"
     ]
    },
    {
     "ename": "SystemExit",
     "evalue": "",
     "output_type": "error",
     "traceback": [
      "An exception has occurred, use %tb to see the full traceback.\n",
      "\u001b[1;31mSystemExit\u001b[0m\n"
     ]
    },
    {
     "name": "stderr",
     "output_type": "stream",
     "text": [
      "C:\\Users\\Fernando\\Anaconda3\\lib\\site-packages\\IPython\\core\\interactiveshell.py:2870: UserWarning: To exit: use 'exit', 'quit', or Ctrl-D.\n",
      "  warn(\"To exit: use 'exit', 'quit', or Ctrl-D.\", stacklevel=1)\n"
     ]
    }
   ],
   "source": [
    "#game loop\n",
    "print(\"game starts\")\n",
    "while True:   \n",
    "    displaysurf.fill(WHITE)\n",
    "    \n",
    "    for event in pygame.event.get():\n",
    "        if event.type== QUIT:\n",
    "            pickle.dump( features, open( \"features.fer\", \"wb\" ) )    \n",
    "            pickle.dump( tags, open( \"tags.fer\", \"wb\" ) )\n",
    "            pygame.quit()\n",
    "            sys.exit()\n",
    "        elif event.type==KEYDOWN:\n",
    "            if event.key==K_UP and orientation!='d':\n",
    "                orientation='u'\n",
    "            elif event.key==K_DOWN and orientation!='u':\n",
    "                orientation='d'\n",
    "            elif event.key==K_RIGHT and orientation!='l':\n",
    "                orientation='r'\n",
    "            elif event.key==K_LEFT and orientation!='r':\n",
    "                orientation='l'\n",
    "            elif event.key==K_f:\n",
    "                emiliaSnake = Snake(int(dim/2),int(dim/2),emiliaImg)\n",
    "                emiliaSnake.createWalls(dim)\n",
    "                emiliaSnake.bodyImg=subaroImg\n",
    "                gameOverFlag=False\n",
    "            elif event.key==K_n:\n",
    "                pickle.dump( features, open( \"features.fer\", \"wb\" ) )\n",
    "                pickle.dump( tags, open( \"tags.fer\", \"wb\" ) )\n",
    "                pygame.quit()\n",
    "                sys.exit()\n",
    "    \n",
    "    framecount=(framecount+1)%30\n",
    "    \n",
    "    atr1,atr2,atr3,ang,hip=0,0,0,0,0\n",
    "    #emilia motion\n",
    "    if(emiliaSnake.isAlive()):\n",
    "        \n",
    "        '''\n",
    "        #AI move\n",
    "        if(True):\n",
    "            atr1,atr2,atr3=emiliaSnake.getAtr()\n",
    "            ang,hip= foodPos(emiliaSnake,foood)\n",
    "            run_feat=[[int(atr1/emiliaSnake.head.image.get_width()),int(atr2/emiliaSnake.head.image.get_width()),int(atr3/emiliaSnake.head.image.get_width()),int(ang)]]\n",
    "            run_dict={x:run_feat}\n",
    "            mv=session.run(y_pred_cls,feed_dict=run_dict)-1\n",
    "            if(orientation=='u' and mv==1):\n",
    "                orientation='r'\n",
    "            elif(orientation=='r' and mv==-1):\n",
    "                orientation='u'\n",
    "            else:\n",
    "                orientation=numbOri(mv+oriNumb(orientation))\n",
    "        '''\n",
    "        emiliaSnake.move(orientation)\n",
    "    \n",
    "    if(not emiliaSnake.isAlive()):\n",
    "        gameOverFlag=True\n",
    "        \n",
    "        displaysurf.blit(gameoverImg, (int((dim-gameoverImg.get_width())/2),(int((dim-gameoverImg.get_height())/2)-50)))\n",
    "        pygame.display.update()\n",
    "\n",
    "    if(emiliaSnake.eaten(foood)):\n",
    "        \n",
    "        foood=newFood(foodImg,dim)\n",
    "        emiliaSnake.addBlock()\n",
    "    \n",
    "    if(not gameOverFlag):\n",
    "        \n",
    "        if(framecount==0 or lastorientation!=orientation):\n",
    "            \n",
    "            atr1,atr2,atr3=emiliaSnake.getAtr()\n",
    "            ang,hip= foodPos(emiliaSnake,foood)\n",
    "            \n",
    "            features.append([atr1,atr2,atr3,ang,hip,oriNumb(orientation)])\n",
    "            rio=calcTag(lastorientation,orientation)\n",
    "            tags.append(rio)\n",
    "            lastorientation=orientation\n",
    "        \n",
    "        renderSnake(displaysurf,emiliaSnake)\n",
    "        renderFood(displaysurf,foood)\n",
    "        pygame.display.update()\n",
    "        \n",
    "    fpsClock.tick(FPS)\n",
    "    \n",
    "\n",
    "            "
   ]
  },
  {
   "cell_type": "code",
   "execution_count": 29,
   "metadata": {},
   "outputs": [
    {
     "data": {
      "image/png": "[encoded data removed]",
      "text/plain": [
       "<matplotlib.figure.Figure at 0x2f63d709be0>"
      ]
     },
     "metadata": {},
     "output_type": "display_data"
    }
   ],
   "source": [
    "from mpl_toolkits.mplot3d import Axes3D\n",
    "\n",
    "fig = plt.figure()\n",
    "ax = fig.add_subplot(111, projection='3d')\n",
    "xp=[int(x[1])for x in X_train]\n",
    "yp=[int(y[0])for y in X_train]\n",
    "\n",
    "ax.scatter(xp, yp, y_train, c='b', marker='o')\n",
    "plt.show()"
   ]
  }
 ],
 "metadata": {
  "kernelspec": {
   "display_name": "Python 3",
   "language": "python",
   "name": "python3"
  },
  "language_info": {
   "codemirror_mode": {
    "name": "ipython",
    "version": 3
   },
   "file_extension": ".py",
   "mimetype": "text/x-python",
   "name": "python",
   "nbconvert_exporter": "python",
   "pygments_lexer": "ipython3",
   "version": "3.6.0"
  }
 },
 "nbformat": 4,
 "nbformat_minor": 2
}
