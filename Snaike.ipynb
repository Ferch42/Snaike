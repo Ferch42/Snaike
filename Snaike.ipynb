{
 "cells": [
  {
   "cell_type": "markdown",
   "metadata": {},
   "source": [
    "# Snaike game with neural nets"
   ]
  },
  {
   "cell_type": "markdown",
   "metadata": {},
   "source": [
    "## Importing modules"
   ]
  },
  {
   "cell_type": "code",
   "execution_count": 1,
   "metadata": {},
   "outputs": [
    {
     "name": "stdout",
     "output_type": "stream",
     "text": [
      "curses is not supported on this machine (please install/reinstall curses for an optimal experience)\n"
     ]
    }
   ],
   "source": [
    "from Snake import Snake\n",
    "from body import body\n",
    "from head import head\n",
    "from food import food\n",
    "from SnakeTools import *\n",
    "from SnakeRender import *\n",
    "from pygame.locals import *\n",
    "from SnakeAi import *\n",
    "from PopulationTools import *\n",
    "import pygame,sys\n",
    "import pickle\n",
    "import tensorflow as tf\n",
    "import matplotlib.pyplot as plt\n",
    "import time"
   ]
  },
  {
   "cell_type": "code",
   "execution_count": 2,
   "metadata": {
    "collapsed": true
   },
   "outputs": [],
   "source": [
    "#colors\n",
    "WHITE = (255, 255, 255)\n",
    "BLACK=(0,0,0)\n",
    "RED= (220,20,60)"
   ]
  },
  {
   "cell_type": "code",
   "execution_count": 3,
   "metadata": {},
   "outputs": [
    {
     "name": "stdout",
     "output_type": "stream",
     "text": [
      "Initializing game\n"
     ]
    }
   ],
   "source": [
    "#init\n",
    "print(\"Initializing game\")\n",
    "pygame.init()\n",
    "score=0\n",
    "attempt=1\n",
    "attempt_flag=True\n",
    "\n",
    "#Font config\n",
    "pygame.font.init() \n",
    "myfont = pygame.font.SysFont('Comic Sans MS', 25)\n",
    "game_name = myfont.render('Snaike Game', False, (220,20,60))\n",
    "myfont2 = pygame.font.SysFont('Comic Sans MS', 25)\n",
    "\n",
    "#Screen config\n",
    "dim=500\n",
    "dim2=int(dim/2)\n",
    "displaysurf=pygame.display.set_mode((dim,dim+150))\n",
    "pygame.display.set_caption('Snaike')\n",
    "\n",
    "#FPS\n",
    "fpsClock = pygame.time.Clock()\n",
    "FPS = 45\n",
    "framecount=0\n",
    "\n",
    "\n",
    "#emilia variables\n",
    "emiliaImg = pygame.image.load('blue.png')\n",
    "emiliaSnake = Snake(int(dim/2)+100,int(dim/2)+100,emiliaImg,ori='u')\n",
    "emiliaSnake.createWalls(dim)\n",
    "\n",
    "#subaro\n",
    "subaroImg=pygame.image.load('blue.png')\n",
    "emiliaSnake.bodyImg=subaroImg\n",
    "\n",
    "#game over image\n",
    "gameoverImg=pygame.image.load('gameover.jpg')\n",
    "\n",
    "#food image\n",
    "foodImg=pygame.image.load('hamb.png')\n",
    "foood=newFood(foodImg,dim)\n",
    "\n",
    "#orientation\n",
    "lastorientation=emiliaSnake.orientation\n",
    "orientation=emiliaSnake.orientation\n",
    "gameOverFlag=False\n"
   ]
  },
  {
   "cell_type": "code",
   "execution_count": 4,
   "metadata": {
    "collapsed": true
   },
   "outputs": [],
   "source": [
    "#Session\n",
    "session = tf.Session()\n",
    "session.run(tf.global_variables_initializer())"
   ]
  },
  {
   "cell_type": "code",
   "execution_count": 5,
   "metadata": {
    "collapsed": true
   },
   "outputs": [],
   "source": [
    "#Neural net configuration\n",
    "inputlayer=4\n",
    "layer1=30\n",
    "layer2=3\n",
    "chromsize=243"
   ]
  },
  {
   "cell_type": "code",
   "execution_count": 6,
   "metadata": {
    "collapsed": true
   },
   "outputs": [],
   "source": [
    "#Placeholder\n",
    "x=tf.placeholder(tf.float32,shape=[None,inputlayer], name='x')\n",
    "\n",
    "def CreateNeuralNet(chromossome):\n",
    "    #The first (inputlayer*layer1) numbers are the weights of the first layer, and the next (layer1) numbers are their biases\n",
    "    #This logic is applyied to the next layers\n",
    "    w1=chromossome[0:(inputlayer*layer1)].reshape([inputlayer,layer1])\n",
    "    b1=chromossome[(inputlayer*layer1):(inputlayer*layer1+layer1)]\n",
    "    w2=chromossome[(inputlayer*layer1+layer1):(inputlayer*layer1+layer1+layer1*layer2)].reshape([layer1,layer2])\n",
    "    b2=chromossome[(inputlayer*layer1+layer1+layer1*layer2):(inputlayer*layer1+layer1+layer1*layer2+layer2)]\n",
    "    \n",
    "    #Neural net definition\n",
    "    w1=tf.Variable(w1,dtype=tf.float32)\n",
    "    b1=tf.Variable(b1,dtype=tf.float32)\n",
    "    first_layer=tf.nn.relu(tf.matmul(x,w1)+b1)\n",
    "    w2=tf.Variable(w2,dtype=tf.float32)\n",
    "    b2=tf.Variable(b2,dtype=tf.float32)\n",
    "    second_layer=tf.nn.softmax(tf.matmul(first_layer,w2)+b2)\n",
    "    out_layer=tf.argmax(second_layer,axis=1)\n",
    "    session.run(tf.global_variables_initializer())\n",
    "    \n",
    "    #The tensor that is returned outputs the class directly\n",
    "    return out_layer"
   ]
  },
  {
   "cell_type": "code",
   "execution_count": 9,
   "metadata": {
    "collapsed": true
   },
   "outputs": [],
   "source": [
    "#Pool\n",
    "pool=SubjectPool()\n",
    "subject=pool.get_subj()\n",
    "neural_net=CreateNeuralNet(subject[1])\n",
    "\n",
    "#Defined as time + score*time\n",
    "fitness=0"
   ]
  },
  {
   "cell_type": "code",
   "execution_count": 10,
   "metadata": {
    "scrolled": false
   },
   "outputs": [
    {
     "name": "stdout",
     "output_type": "stream",
     "text": [
      "game starts\n"
     ]
    },
    {
     "ename": "SystemExit",
     "evalue": "",
     "output_type": "error",
     "traceback": [
      "An exception has occurred, use %tb to see the full traceback.\n",
      "\u001b[1;31mSystemExit\u001b[0m\n"
     ]
    },
    {
     "name": "stderr",
     "output_type": "stream",
     "text": [
      "C:\\ProgramData\\Anaconda3\\lib\\site-packages\\IPython\\core\\interactiveshell.py:2870: UserWarning: To exit: use 'exit', 'quit', or Ctrl-D.\n",
      "  warn(\"To exit: use 'exit', 'quit', or Ctrl-D.\", stacklevel=1)\n"
     ]
    }
   ],
   "source": [
    "#game loop\n",
    "print(\"game starts\")\n",
    "Snake_time=time.time()\n",
    "\n",
    "while True:   \n",
    "    \n",
    "    #Ordinary display\n",
    "    displaysurf.fill(WHITE)\n",
    "    pygame.draw.line(displaysurf,BLACK,(0,dim),(dim,dim))\n",
    "    displaysurf.blit(game_name,(10,dim+10))\n",
    "    game_score= myfont2.render('Score: '+str(score), False, (0, 0, 0))\n",
    "    displaysurf.blit(game_score,(10,dim+40))\n",
    "    now=time.time()\n",
    "    game_time= myfont2.render('Time: '+str(int(now-Snake_time)), False, (0, 0, 0))\n",
    "    displaysurf.blit(game_time,(10,dim+70))\n",
    "    game_attempt= myfont2.render('Attempt: '+str(attempt), False, (0, 0, 0))\n",
    "    displaysurf.blit(game_attempt,(10,dim+100))\n",
    "    game_subject= myfont2.render('Subject: '+subject[0], False, (0, 0, 0))   \n",
    "    displaysurf.blit(game_subject,(dim2-50,dim+10))\n",
    "    timedelta=now-Snake_time\n",
    "    game_fitness=myfont2.render('Fitness: '+str(int(fitness)), False, (0, 0, 0))   \n",
    "    displaysurf.blit(game_fitness,(dim2-50,dim+40))\n",
    "    \n",
    "    for event in pygame.event.get():\n",
    "        if event.type== QUIT:\n",
    "            pygame.quit()\n",
    "            sys.exit()\n",
    "        elif event.type==KEYDOWN:\n",
    "            if event.key==K_UP and orientation!='d':\n",
    "                orientation='u'\n",
    "            elif event.key==K_DOWN and orientation!='u':\n",
    "                orientation='d'\n",
    "            elif event.key==K_RIGHT and orientation!='l':\n",
    "                orientation='r'\n",
    "            elif event.key==K_LEFT and orientation!='r':\n",
    "                orientation='l'\n",
    "            elif event.key==K_f:\n",
    "                emiliaSnake = Snake(int(dim/2),int(dim/2),emiliaImg)\n",
    "                emiliaSnake.createWalls(dim)\n",
    "                emiliaSnake.bodyImg=subaroImg\n",
    "                gameOverFlag=False\n",
    "                attempt_flag=True\n",
    "            elif event.key==K_n:\n",
    "                pygame.quit()\n",
    "                sys.exit()\n",
    "    \n",
    "    framecount=(framecount+1)%15\n",
    "    \n",
    "    #emilia motion\n",
    "    if(emiliaSnake.isAlive()):\n",
    "        \n",
    "        if(framecount==0):\n",
    "            atr1,atr2,atr3=emiliaSnake.getAtr()\n",
    "            ang,_= foodPos(emiliaSnake,foood)\n",
    "            ang=int(ang)\n",
    "            fitness=timedelta*(score+1)\n",
    "            features=[[atr1,atr2,atr3,ang]]\n",
    "            mv=session.run(neural_net,feed_dict={x:features})-1\n",
    "            if(orientation=='u' and mv==1):\n",
    "                orientation='r'\n",
    "            elif(orientation=='r' and mv==-1):\n",
    "                orientation='u'\n",
    "            else:\n",
    "                orientation=numbOri(mv+oriNumb(orientation))\n",
    "            \n",
    "        emiliaSnake.move(orientation)\n",
    "        emiliaSnake.move(orientation)\n",
    "    \n",
    "    if(not emiliaSnake.isAlive()):\n",
    "        gameOverFlag=True\n",
    "        \n",
    "        displaysurf.blit(gameoverImg, (int((dim-gameoverImg.get_width())/2),(int((dim-gameoverImg.get_height())/2)-50)))\n",
    "        pygame.display.update()\n",
    "        score=0\n",
    "        if(attempt_flag):\n",
    "            attempt+=1\n",
    "            attempt_flag=False\n",
    "            pool.set_fitness(fitness)\n",
    "        Snake_time=time.time()\n",
    "\n",
    "    if(emiliaSnake.eaten(foood)):\n",
    "        \n",
    "        foood=newFood(foodImg,dim)\n",
    "        score+=1\n",
    "        emiliaSnake.addBlock()\n",
    "    \n",
    "    if(not gameOverFlag):\n",
    "        \n",
    "        renderSnake(displaysurf,emiliaSnake)\n",
    "        renderFood(displaysurf,foood)\n",
    "        pygame.display.update()\n",
    "        \n",
    "    fpsClock.tick(FPS)\n",
    "    \n",
    "\n",
    "            "
   ]
  },
  {
   "cell_type": "code",
   "execution_count": null,
   "metadata": {
    "collapsed": true
   },
   "outputs": [],
   "source": []
  }
 ],
 "metadata": {
  "kernelspec": {
   "display_name": "Python 3",
   "language": "python",
   "name": "python3"
  },
  "language_info": {
   "codemirror_mode": {
    "name": "ipython",
    "version": 3
   },
   "file_extension": ".py",
   "mimetype": "text/x-python",
   "name": "python",
   "nbconvert_exporter": "python",
   "pygments_lexer": "ipython3",
   "version": "3.6.2"
  }
 },
 "nbformat": 4,
 "nbformat_minor": 2
}
