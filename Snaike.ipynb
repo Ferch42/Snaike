{
 "cells": [
  {
   "cell_type": "markdown",
   "metadata": {},
   "source": [
    "# Snaike game with neural nets"
   ]
  },
  {
   "cell_type": "markdown",
   "metadata": {},
   "source": [
    "## Importing modules"
   ]
  },
  {
   "cell_type": "code",
   "execution_count": 1,
   "metadata": {},
   "outputs": [
    {
     "name": "stdout",
     "output_type": "stream",
     "text": [
      "curses is not supported on this machine (please install/reinstall curses for an optimal experience)\n"
     ]
    }
   ],
   "source": [
    "from Snake import Snake\n",
    "from body import body\n",
    "from head import head\n",
    "from food import food\n",
    "from SnakeTools import *\n",
    "from SnakeRender import *\n",
    "from pygame.locals import *\n",
    "from SnakeAi import *\n",
    "import pygame,sys\n",
    "import pickle\n",
    "import tensorflow as tf\n",
    "import matplotlib.pyplot as plt"
   ]
  },
  {
   "cell_type": "code",
   "execution_count": 2,
   "metadata": {
    "collapsed": true
   },
   "outputs": [],
   "source": [
    "#colors\n",
    "WHITE = (255, 255, 255)\n",
    "BLACK=(0,0,0)"
   ]
  },
  {
   "cell_type": "code",
   "execution_count": 3,
   "metadata": {},
   "outputs": [
    {
     "data": {
      "text/plain": [
       "'\\n#reset files\\n\\npickle.dump( [], open( \"features.fer\", \"wb\" ) )    \\npickle.dump( [], open( \"tags.fer\", \"wb\" ) )\\n'"
      ]
     },
     "execution_count": 3,
     "metadata": {},
     "output_type": "execute_result"
    }
   ],
   "source": [
    "'''\n",
    "#reset files\n",
    "\n",
    "pickle.dump( [], open( \"features.fer\", \"wb\" ) )    \n",
    "pickle.dump( [], open( \"tags.fer\", \"wb\" ) )\n",
    "'''"
   ]
  },
  {
   "cell_type": "code",
   "execution_count": 4,
   "metadata": {},
   "outputs": [
    {
     "name": "stdout",
     "output_type": "stream",
     "text": [
      "Initializing game\n"
     ]
    }
   ],
   "source": [
    "#init\n",
    "print(\"Initializing game\")\n",
    "pygame.init()\n",
    "dim=300\n",
    "displaysurf=pygame.display.set_mode((dim,dim))\n",
    "pygame.display.set_caption('Snaike')\n",
    "fpsClock = pygame.time.Clock()\n",
    "FPS = 120\n",
    "framecount=0\n",
    "\n",
    "\n",
    "#emilia variables\n",
    "emiliaImg = pygame.image.load('blue.png')\n",
    "emiliaSnake = Snake(int(dim/2)+100,int(dim/2)+100,emiliaImg,ori='u')\n",
    "emiliaSnake.createWalls(dim)\n",
    "\n",
    "#subaro\n",
    "subaroImg=pygame.image.load('blue.png')\n",
    "emiliaSnake.bodyImg=subaroImg\n",
    "\n",
    "#game over\n",
    "gameoverImg=pygame.image.load('gameover.jpg')\n",
    "\n",
    "#food\n",
    "foodImg=pygame.image.load('hamb.png')\n",
    "foood=newFood(foodImg,dim)\n",
    "\n",
    "#orientation\n",
    "lastorientation=emiliaSnake.orientation\n",
    "orientation=emiliaSnake.orientation\n",
    "gameOverFlag=False\n",
    "\n"
   ]
  },
  {
   "cell_type": "code",
   "execution_count": 5,
   "metadata": {},
   "outputs": [
    {
     "name": "stdout",
     "output_type": "stream",
     "text": [
      "Opening config files\n",
      "Features:  4257\n",
      "Test-split\n",
      "Smoting\n",
      "Features:  3831\n"
     ]
    },
    {
     "data": {
      "text/plain": [
       "'\\nprint(\"Training model ...\")\\nfeatz=len(features[0])\\noutz=3\\nl1_neurons=30\\n\\n#Neural net config\\nx=tf.placeholder(tf.float32,shape=[None,featz], name=\\'x\\')\\nl1=fully_connected_layer(x,featz,l1_neurons)\\nl2=fully_connected_layer(l1,l1_neurons,outz,relu=False)\\nsoftmax=tf.nn.softmax(l2)\\ny_pred_cls=tf.argmax(softmax,axis=1)\\ny_true = tf.placeholder(tf.float32, shape=[None, 3], name=\\'y_true\\')\\ncross_entropy = tf.nn.softmax_cross_entropy_with_logits(logits=l2,labels=y_true)\\ncost = tf.reduce_mean(cross_entropy)\\noptimizer = tf.train.AdamOptimizer(learning_rate=1e-4).minimize(cost)\\n\\n#Accuracy measures\\ny_true_cls = tf.argmax(y_true, axis=1)\\ncorrect_prediction = tf.equal(y_pred_cls, y_true_cls)\\naccuracy = tf.reduce_mean(tf.cast(correct_prediction, tf.float32))\\n'"
      ]
     },
     "execution_count": 5,
     "metadata": {},
     "output_type": "execute_result"
    }
   ],
   "source": [
    "#Neural net\n",
    "print(\"Opening config files\")\n",
    "#training features and tags\n",
    "features=pickle.load( open( \"features.fer\", \"rb\" ) )\n",
    "tags=pickle.load( open(\"tags.fer\",\"rb\"))\n",
    "print(\"Features: \", len(features))\n",
    "\n",
    "'''\n",
    "print(\"Training model ...\")\n",
    "featz=len(features[0])\n",
    "outz=3\n",
    "l1_neurons=30\n",
    "\n",
    "#Neural net config\n",
    "x=tf.placeholder(tf.float32,shape=[None,featz], name='x')\n",
    "l1=fully_connected_layer(x,featz,l1_neurons)\n",
    "l2=fully_connected_layer(l1,l1_neurons,outz,relu=False)\n",
    "softmax=tf.nn.softmax(l2)\n",
    "y_pred_cls=tf.argmax(softmax,axis=1)\n",
    "y_true = tf.placeholder(tf.float32, shape=[None, 3], name='y_true')\n",
    "cross_entropy = tf.nn.softmax_cross_entropy_with_logits(logits=l2,labels=y_true)\n",
    "cost = tf.reduce_mean(cross_entropy)\n",
    "optimizer = tf.train.AdamOptimizer(learning_rate=1e-4).minimize(cost)\n",
    "\n",
    "#Accuracy measures\n",
    "y_true_cls = tf.argmax(y_true, axis=1)\n",
    "correct_prediction = tf.equal(y_pred_cls, y_true_cls)\n",
    "accuracy = tf.reduce_mean(tf.cast(correct_prediction, tf.float32))\n",
    "'''"
   ]
  },
  {
   "cell_type": "code",
   "execution_count": 6,
   "metadata": {
    "collapsed": true
   },
   "outputs": [],
   "source": [
    "#Session\n",
    "session = tf.Session()\n",
    "session.run(tf.global_variables_initializer())"
   ]
  },
  {
   "cell_type": "code",
   "execution_count": 7,
   "metadata": {},
   "outputs": [
    {
     "data": {
      "text/plain": [
       "'\\n#Optimization function\\nsampleGenerator=SampleGenerator(X_train,y_train)\\n\\n'"
      ]
     },
     "execution_count": 7,
     "metadata": {},
     "output_type": "execute_result"
    }
   ],
   "source": [
    "'''\n",
    "#Optimization function\n",
    "sampleGenerator=SampleGenerator(X_train,y_train)\n",
    "\n",
    "'''"
   ]
  },
  {
   "cell_type": "code",
   "execution_count": 8,
   "metadata": {},
   "outputs": [
    {
     "data": {
      "text/plain": [
       "'\\n#Running the graph\\noptimize(7500)\\n'"
      ]
     },
     "execution_count": 8,
     "metadata": {},
     "output_type": "execute_result"
    }
   ],
   "source": [
    "'''\n",
    "#Running the graph\n",
    "optimize(7500)\n",
    "'''"
   ]
  },
  {
   "cell_type": "code",
   "execution_count": 9,
   "metadata": {},
   "outputs": [
    {
     "data": {
      "text/plain": [
       "'\\npred_dict={x:X_test}\\npredictions=session.run(y_pred_cls,feed_dict=pred_dict)\\n\\nprint(classification_report(y_test,predictions))\\n'"
      ]
     },
     "execution_count": 9,
     "metadata": {},
     "output_type": "execute_result"
    }
   ],
   "source": [
    "'''\n",
    "pred_dict={x:X_test}\n",
    "predictions=session.run(y_pred_cls,feed_dict=pred_dict)\n",
    "\n",
    "print(classification_report(y_test,predictions))\n",
    "'''"
   ]
  },
  {
   "cell_type": "code",
   "execution_count": 10,
   "metadata": {
    "collapsed": true
   },
   "outputs": [],
   "source": [
    "#AI move\n",
    "def aiMove(emiliaSnake,foood,orientation,framecount):\n",
    "        \n",
    "    if(framecount==0):\n",
    "        atr1,atr2,atr3=emiliaSnake.getAtr()\n",
    "        ang,hip= foodPos(emiliaSnake,foood)\n",
    "            \n",
    "        run_dict={x:[[atr1,atr2,atr3,ang]]}\n",
    "        mv=session.run(y_pred_cls,feed_dict=run_dict)-1\n",
    "        print(mv)\n",
    "        if(orientation=='u' and mv==1):\n",
    "            orientation='r'\n",
    "        elif(orientation=='r' and mv==-1):\n",
    "            orientation='u'\n",
    "        else:\n",
    "            orientation=numbOri(mv+oriNumb(orientation))\n",
    "        print(orientation)\n",
    "    \n",
    "    return orientation"
   ]
  },
  {
   "cell_type": "code",
   "execution_count": 11,
   "metadata": {
    "scrolled": false
   },
   "outputs": [
    {
     "name": "stdout",
     "output_type": "stream",
     "text": [
      "game starts\n"
     ]
    },
    {
     "ename": "SystemExit",
     "evalue": "",
     "output_type": "error",
     "traceback": [
      "An exception has occurred, use %tb to see the full traceback.\n",
      "\u001b[1;31mSystemExit\u001b[0m\n"
     ]
    },
    {
     "name": "stderr",
     "output_type": "stream",
     "text": [
      "C:\\Users\\Fernando\\Anaconda3\\lib\\site-packages\\IPython\\core\\interactiveshell.py:2870: UserWarning: To exit: use 'exit', 'quit', or Ctrl-D.\n",
      "  warn(\"To exit: use 'exit', 'quit', or Ctrl-D.\", stacklevel=1)\n"
     ]
    }
   ],
   "source": [
    "#game loop\n",
    "print(\"game starts\")\n",
    "while True:   \n",
    "    displaysurf.fill(WHITE)\n",
    "    \n",
    "    for event in pygame.event.get():\n",
    "        if event.type== QUIT:\n",
    "            pickle.dump( features, open( \"features.fer\", \"wb\" ) )    \n",
    "            pickle.dump( tags, open( \"tags.fer\", \"wb\" ) )\n",
    "            pygame.quit()\n",
    "            sys.exit()\n",
    "        elif event.type==KEYDOWN:\n",
    "            if event.key==K_UP and orientation!='d':\n",
    "                orientation='u'\n",
    "            elif event.key==K_DOWN and orientation!='u':\n",
    "                orientation='d'\n",
    "            elif event.key==K_RIGHT and orientation!='l':\n",
    "                orientation='r'\n",
    "            elif event.key==K_LEFT and orientation!='r':\n",
    "                orientation='l'\n",
    "            elif event.key==K_f:\n",
    "                emiliaSnake = Snake(int(dim/2),int(dim/2),emiliaImg)\n",
    "                emiliaSnake.createWalls(dim)\n",
    "                emiliaSnake.bodyImg=subaroImg\n",
    "                gameOverFlag=False\n",
    "            elif event.key==K_n:\n",
    "                pickle.dump( features, open( \"features.fer\", \"wb\" ) )\n",
    "                pickle.dump( tags, open( \"tags.fer\", \"wb\" ) )\n",
    "                pygame.quit()\n",
    "                sys.exit()\n",
    "    \n",
    "    framecount=(framecount+1)%30\n",
    "    \n",
    "    atr1,atr2,atr3,ang,hip=0,0,0,0,0\n",
    "    #emilia motion\n",
    "    if(emiliaSnake.isAlive()):\n",
    "        \n",
    "        '''\n",
    "        #AI move\n",
    "        if(True):\n",
    "            atr1,atr2,atr3=emiliaSnake.getAtr()\n",
    "            ang,hip= foodPos(emiliaSnake,foood)\n",
    "            run_feat=[[int(atr1/emiliaSnake.head.image.get_width()),int(atr2/emiliaSnake.head.image.get_width()),int(atr3/emiliaSnake.head.image.get_width()),int(ang)]]\n",
    "            run_dict={x:run_feat}\n",
    "            mv=session.run(y_pred_cls,feed_dict=run_dict)-1\n",
    "            if(orientation=='u' and mv==1):\n",
    "                orientation='r'\n",
    "            elif(orientation=='r' and mv==-1):\n",
    "                orientation='u'\n",
    "            else:\n",
    "                orientation=numbOri(mv+oriNumb(orientation))\n",
    "        '''\n",
    "        emiliaSnake.move(orientation)\n",
    "    \n",
    "    if(not emiliaSnake.isAlive()):\n",
    "        gameOverFlag=True\n",
    "        \n",
    "        displaysurf.blit(gameoverImg, (int((dim-gameoverImg.get_width())/2),(int((dim-gameoverImg.get_height())/2)-50)))\n",
    "        pygame.display.update()\n",
    "\n",
    "    if(emiliaSnake.eaten(foood)):\n",
    "        \n",
    "        foood=newFood(foodImg,dim)\n",
    "        emiliaSnake.addBlock()\n",
    "    \n",
    "    if(not gameOverFlag):\n",
    "        \n",
    "        if(framecount==0 or lastorientation!=orientation):\n",
    "            \n",
    "            atr1,atr2,atr3=emiliaSnake.getAtr()\n",
    "            ang,hip= foodPos(emiliaSnake,foood)\n",
    "            \n",
    "            features.append([atr1,atr2,atr3,ang,hip,oriNumb(orientation)])\n",
    "            rio=calcTag(lastorientation,orientation)\n",
    "            tags.append(rio)\n",
    "            lastorientation=orientation\n",
    "        \n",
    "        renderSnake(displaysurf,emiliaSnake)\n",
    "        renderFood(displaysurf,foood)\n",
    "        pygame.display.update()\n",
    "        \n",
    "    fpsClock.tick(FPS)\n",
    "    \n",
    "\n",
    "            "
   ]
  },
  {
   "cell_type": "code",
   "execution_count": null,
   "metadata": {
    "collapsed": true
   },
   "outputs": [],
   "source": [
    "from mpl_toolkits.mplot3d import Axes3D\n",
    "\n",
    "fig = plt.figure()\n",
    "ax = fig.add_subplot(111, projection='3d')\n",
    "xp=[int(x[1])for x in X_train]\n",
    "yp=[int(y[0])for y in X_train]\n",
    "\n",
    "ax.scatter(xp, yp, y_train, c='b', marker='o')\n",
    "plt.show()"
   ]
  },
  {
   "cell_type": "code",
   "execution_count": null,
   "metadata": {
    "collapsed": true,
    "scrolled": true
   },
   "outputs": [],
   "source": [
    "from sklearn.manifold import TSNE\n",
    "from mpl_toolkits.mplot3d import Axes3D\n",
    "features=np.array(features)\n",
    "nf=[]\n",
    "nt=[]\n",
    "print('before')\n",
    "print(len(features))\n",
    "for i in range(len(features)):\n",
    "    ff=features[i]\n",
    "    if(len(ff)==4):\n",
    "        nf.append(ff)\n",
    "        nt.append(tags[i])\n",
    "print('after')\n",
    "print(len(nf))\n",
    "ff = TSNE(n_components=2).fit_transform(nf)\n",
    "fig = plt.figure()\n",
    "ax = fig.add_subplot(111, projection='3d')\n",
    "x=[j[0] for j in ff]\n",
    "y=[j[1] for j in ff]\n",
    "print(len(nt), len(nf))\n",
    "ax.scatter(x, y, nt, c='b', marker='o')\n",
    "plt.show()"
   ]
  }
 ],
 "metadata": {
  "kernelspec": {
   "display_name": "Python 3",
   "language": "python",
   "name": "python3"
  },
  "language_info": {
   "codemirror_mode": {
    "name": "ipython",
    "version": 3
   },
   "file_extension": ".py",
   "mimetype": "text/x-python",
   "name": "python",
   "nbconvert_exporter": "python",
   "pygments_lexer": "ipython3",
   "version": "3.6.0"
  }
 },
 "nbformat": 4,
 "nbformat_minor": 2
}
